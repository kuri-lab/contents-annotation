{
 "cells": [
  {
   "cell_type": "code",
   "execution_count": 3,
   "id": "b67a8674-c913-4d41-9232-85f2e54ed5c0",
   "metadata": {},
   "outputs": [],
   "source": [
    "from models.database import init_db"
   ]
  },
  {
   "cell_type": "code",
   "execution_count": 4,
   "id": "60654a53-8387-4861-8d37-92892919348b",
   "metadata": {},
   "outputs": [],
   "source": [
    "init_db()"
   ]
  },
  {
   "cell_type": "code",
   "execution_count": null,
   "id": "0a70166d-c4a2-4f0b-916b-f5a3e7ef0ece",
   "metadata": {},
   "outputs": [],
   "source": []
  }
 ],
 "metadata": {
  "kernelspec": {
   "display_name": "Python 3 (ipykernel)",
   "language": "python",
   "name": "python3"
  },
  "language_info": {
   "codemirror_mode": {
    "name": "ipython",
    "version": 3
   },
   "file_extension": ".py",
   "mimetype": "text/x-python",
   "name": "python",
   "nbconvert_exporter": "python",
   "pygments_lexer": "ipython3",
   "version": "3.8.3"
  }
 },
 "nbformat": 4,
 "nbformat_minor": 5
}
