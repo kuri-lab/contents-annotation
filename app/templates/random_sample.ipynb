{
 "cells": [
  {
   "cell_type": "code",
   "execution_count": 78,
   "id": "a21cd4f2-0066-4377-b884-9cd8eeb8a5fc",
   "metadata": {},
   "outputs": [],
   "source": [
    "import os\n",
    "from glob import glob\n",
    "import random\n",
    "import shutil\n",
    "import pathlib"
   ]
  },
  {
   "cell_type": "code",
   "execution_count": 56,
   "id": "d2c35a95-7eaf-449b-aea9-969866f920b3",
   "metadata": {},
   "outputs": [
    {
     "data": {
      "text/plain": [
       "'/workspace/sample/app/templates'"
      ]
     },
     "execution_count": 56,
     "metadata": {},
     "output_type": "execute_result"
    }
   ],
   "source": [
    "pwd"
   ]
  },
  {
   "cell_type": "code",
   "execution_count": 57,
   "id": "46148ea5-52d6-4e91-bee2-e62756799321",
   "metadata": {},
   "outputs": [],
   "source": [
    "lst_tezuka_random = random.sample(glob('../templates/tezuka_0609/*'),50)"
   ]
  },
  {
   "cell_type": "code",
   "execution_count": 50,
   "id": "8af9d61a-67cd-4465-9b6b-cfc41528945f",
   "metadata": {
    "collapsed": true,
    "jupyter": {
     "outputs_hidden": true
    },
    "tags": []
   },
   "outputs": [
    {
     "data": {
      "text/plain": [
       "['../templates/tezuka_0609/08465.jpg',\n",
       " '../templates/tezuka_0609/03025.jpg',\n",
       " '../templates/tezuka_0609/00716.jpg',\n",
       " '../templates/tezuka_0609/03486.jpg',\n",
       " '../templates/tezuka_0609/01877.jpg',\n",
       " '../templates/tezuka_0609/05740.jpg',\n",
       " '../templates/tezuka_0609/03481.jpg',\n",
       " '../templates/tezuka_0609/00622.jpg',\n",
       " '../templates/tezuka_0609/07845.jpg',\n",
       " '../templates/tezuka_0609/02917.jpg',\n",
       " '../templates/tezuka_0609/06852.jpg',\n",
       " '../templates/tezuka_0609/06217.jpg',\n",
       " '../templates/tezuka_0609/02499.jpg',\n",
       " '../templates/tezuka_0609/05205.jpg',\n",
       " '../templates/tezuka_0609/07360.jpg',\n",
       " '../templates/tezuka_0609/09325.jpg',\n",
       " '../templates/tezuka_0609/00269.jpg',\n",
       " '../templates/tezuka_0609/06288.jpg',\n",
       " '../templates/tezuka_0609/00533.jpg',\n",
       " '../templates/tezuka_0609/01921.jpg',\n",
       " '../templates/tezuka_0609/00928.jpg',\n",
       " '../templates/tezuka_0609/06368.jpg',\n",
       " '../templates/tezuka_0609/02705.jpg',\n",
       " '../templates/tezuka_0609/04411.jpg',\n",
       " '../templates/tezuka_0609/01898.jpg',\n",
       " '../templates/tezuka_0609/00287.jpg',\n",
       " '../templates/tezuka_0609/05479.jpg',\n",
       " '../templates/tezuka_0609/05939.jpg',\n",
       " '../templates/tezuka_0609/05870.jpg',\n",
       " '../templates/tezuka_0609/04665.jpg',\n",
       " '../templates/tezuka_0609/05345.jpg',\n",
       " '../templates/tezuka_0609/04731.jpg',\n",
       " '../templates/tezuka_0609/06778.jpg',\n",
       " '../templates/tezuka_0609/05979.jpg',\n",
       " '../templates/tezuka_0609/04373.jpg',\n",
       " '../templates/tezuka_0609/01511.jpg',\n",
       " '../templates/tezuka_0609/00897.jpg',\n",
       " '../templates/tezuka_0609/00793.jpg',\n",
       " '../templates/tezuka_0609/03700.jpg',\n",
       " '../templates/tezuka_0609/00407.jpg',\n",
       " '../templates/tezuka_0609/08266.jpg',\n",
       " '../templates/tezuka_0609/05453.jpg',\n",
       " '../templates/tezuka_0609/04697.jpg',\n",
       " '../templates/tezuka_0609/09160.jpg',\n",
       " '../templates/tezuka_0609/09030.jpg',\n",
       " '../templates/tezuka_0609/02662.jpg',\n",
       " '../templates/tezuka_0609/01310.jpg',\n",
       " '../templates/tezuka_0609/04782.jpg',\n",
       " '../templates/tezuka_0609/08323.jpg',\n",
       " '../templates/tezuka_0609/07841.jpg']"
      ]
     },
     "execution_count": 50,
     "metadata": {},
     "output_type": "execute_result"
    }
   ],
   "source": [
    "lst_tezuka_random"
   ]
  },
  {
   "cell_type": "code",
   "execution_count": 51,
   "id": "b30b64c3-b0ab-4a68-84ae-de7d8f40152b",
   "metadata": {},
   "outputs": [],
   "source": [
    "for i in lst_tezuka_random:\n",
    "    shutil.copy(i, 'sample_tezuka/')"
   ]
  },
  {
   "cell_type": "code",
   "execution_count": 52,
   "id": "f0fb6a33-8441-4c02-9cf7-90687e2b92e0",
   "metadata": {},
   "outputs": [],
   "source": [
    "lst_target_random_jpg = []\n",
    "for f in lst_tezuka_random:\n",
    "    lst_target_random_jpg.append(os.path.split(f)[1])"
   ]
  },
  {
   "cell_type": "code",
   "execution_count": 54,
   "id": "2a816cc6-6c23-4495-b0e1-1b10e91d93fa",
   "metadata": {
    "collapsed": true,
    "jupyter": {
     "outputs_hidden": true
    },
    "tags": []
   },
   "outputs": [
    {
     "data": {
      "text/plain": [
       "['08465.jpg',\n",
       " '03025.jpg',\n",
       " '00716.jpg',\n",
       " '03486.jpg',\n",
       " '01877.jpg',\n",
       " '05740.jpg',\n",
       " '03481.jpg',\n",
       " '00622.jpg',\n",
       " '07845.jpg',\n",
       " '02917.jpg',\n",
       " '06852.jpg',\n",
       " '06217.jpg',\n",
       " '02499.jpg',\n",
       " '05205.jpg',\n",
       " '07360.jpg',\n",
       " '09325.jpg',\n",
       " '00269.jpg',\n",
       " '06288.jpg',\n",
       " '00533.jpg',\n",
       " '01921.jpg',\n",
       " '00928.jpg',\n",
       " '06368.jpg',\n",
       " '02705.jpg',\n",
       " '04411.jpg',\n",
       " '01898.jpg',\n",
       " '00287.jpg',\n",
       " '05479.jpg',\n",
       " '05939.jpg',\n",
       " '05870.jpg',\n",
       " '04665.jpg',\n",
       " '05345.jpg',\n",
       " '04731.jpg',\n",
       " '06778.jpg',\n",
       " '05979.jpg',\n",
       " '04373.jpg',\n",
       " '01511.jpg',\n",
       " '00897.jpg',\n",
       " '00793.jpg',\n",
       " '03700.jpg',\n",
       " '00407.jpg',\n",
       " '08266.jpg',\n",
       " '05453.jpg',\n",
       " '04697.jpg',\n",
       " '09160.jpg',\n",
       " '09030.jpg',\n",
       " '02662.jpg',\n",
       " '01310.jpg',\n",
       " '04782.jpg',\n",
       " '08323.jpg',\n",
       " '07841.jpg']"
      ]
     },
     "execution_count": 54,
     "metadata": {},
     "output_type": "execute_result"
    }
   ],
   "source": [
    "lst_target_random_jpg"
   ]
  },
  {
   "cell_type": "code",
   "execution_count": null,
   "id": "7ea039a3-d6d2-4b39-9677-a070bdd541cc",
   "metadata": {},
   "outputs": [],
   "source": []
  },
  {
   "cell_type": "code",
   "execution_count": null,
   "id": "80ece0f5-1bee-4eea-a63b-0fc5318f94f3",
   "metadata": {},
   "outputs": [],
   "source": []
  },
  {
   "cell_type": "code",
   "execution_count": 58,
   "id": "89bf9455-5042-460c-93fa-2fe9a40d1407",
   "metadata": {},
   "outputs": [],
   "source": [
    "lst_sketch_random = random.sample(glob('DomainNet/sketch/*/*'),50)"
   ]
  },
  {
   "cell_type": "code",
   "execution_count": 59,
   "id": "9ac639c3-a0e6-4025-abd4-5a464e068656",
   "metadata": {
    "collapsed": true,
    "jupyter": {
     "outputs_hidden": true
    },
    "tags": []
   },
   "outputs": [
    {
     "data": {
      "text/plain": [
       "['DomainNet/sketch/skateboard/sketch_264_000305.jpg',\n",
       " 'DomainNet/sketch/teapot/sketch_303_000165.jpg',\n",
       " 'DomainNet/sketch/scorpion/sketch_254_000057.jpg',\n",
       " 'DomainNet/sketch/arm/sketch_010_000102.jpg',\n",
       " 'DomainNet/sketch/bird/sketch_032_000108.jpg',\n",
       " 'DomainNet/sketch/laptop/sketch_167_000102.jpg',\n",
       " 'DomainNet/sketch/school_bus/sketch_252_000334.jpg',\n",
       " 'DomainNet/sketch/helicopter/sketch_143_000091.jpg',\n",
       " 'DomainNet/sketch/raccoon/sketch_237_000045.jpg',\n",
       " 'DomainNet/sketch/paintbrush/sketch_206_000010.jpg',\n",
       " 'DomainNet/sketch/door/sketch_095_000026.jpg',\n",
       " 'DomainNet/sketch/shorts/sketch_261_000278.jpg',\n",
       " 'DomainNet/sketch/lollipop/sketch_178_000076.jpg',\n",
       " 'DomainNet/sketch/underwear/sketch_330_000054.jpg',\n",
       " 'DomainNet/sketch/guitar/sketch_135_000040.jpg',\n",
       " 'DomainNet/sketch/sleeping_bag/sketch_267_000502.jpg',\n",
       " 'DomainNet/sketch/spreadsheet/sketch_279_000024.jpg',\n",
       " 'DomainNet/sketch/bathtub/sketch_022_000194.jpg',\n",
       " 'DomainNet/sketch/circle/sketch_072_000083.jpg',\n",
       " 'DomainNet/sketch/skyscraper/sketch_266_000151.jpg',\n",
       " 'DomainNet/sketch/sheep/sketch_259_000093.jpg',\n",
       " 'DomainNet/sketch/skyscraper/sketch_266_000214.jpg',\n",
       " 'DomainNet/sketch/ear/sketch_102_000144.jpg',\n",
       " 'DomainNet/sketch/bird/sketch_032_000103.jpg',\n",
       " 'DomainNet/sketch/elephant/sketch_104_000141.jpg',\n",
       " 'DomainNet/sketch/shark/sketch_258_000019.jpg',\n",
       " 'DomainNet/sketch/bench/sketch_029_000061.jpg',\n",
       " 'DomainNet/sketch/see_saw/sketch_257_000125.jpg',\n",
       " 'DomainNet/sketch/sleeping_bag/sketch_267_000424.jpg',\n",
       " 'DomainNet/sketch/stethoscope/sketch_287_000038.jpg',\n",
       " 'DomainNet/sketch/floor_lamp/sketch_121_000228.jpg',\n",
       " 'DomainNet/sketch/ladder/sketch_165_000210.jpg',\n",
       " 'DomainNet/sketch/floor_lamp/sketch_121_000203.jpg',\n",
       " 'DomainNet/sketch/bed/sketch_026_000078.jpg',\n",
       " 'DomainNet/sketch/penguin/sketch_219_000011.jpg',\n",
       " 'DomainNet/sketch/face/sketch_109_000249.jpg',\n",
       " 'DomainNet/sketch/sword/sketch_300_000255.jpg',\n",
       " 'DomainNet/sketch/bear/sketch_024_000092.jpg',\n",
       " 'DomainNet/sketch/rifle/sketch_244_000045.jpg',\n",
       " 'DomainNet/sketch/spreadsheet/sketch_279_000426.jpg',\n",
       " 'DomainNet/sketch/penguin/sketch_219_000190.jpg',\n",
       " 'DomainNet/sketch/The_Mona_Lisa/sketch_311_000080.jpg',\n",
       " 'DomainNet/sketch/microwave/sketch_186_000129.jpg',\n",
       " 'DomainNet/sketch/sailboat/sketch_248_000318.jpg',\n",
       " 'DomainNet/sketch/snowman/sketch_273_000666.jpg',\n",
       " 'DomainNet/sketch/bowtie/sketch_039_000202.jpg',\n",
       " 'DomainNet/sketch/dumbbell/sketch_101_000030.jpg',\n",
       " 'DomainNet/sketch/asparagus/sketch_011_000193.jpg',\n",
       " 'DomainNet/sketch/radio/sketch_238_000018.jpg',\n",
       " 'DomainNet/sketch/elbow/sketch_103_000037.jpg']"
      ]
     },
     "execution_count": 59,
     "metadata": {},
     "output_type": "execute_result"
    }
   ],
   "source": [
    "lst_sketch_random"
   ]
  },
  {
   "cell_type": "code",
   "execution_count": 60,
   "id": "134047c9-f3c4-4a69-8fc5-b1532d851ac0",
   "metadata": {},
   "outputs": [],
   "source": [
    "for i in lst_sketch_random:\n",
    "    shutil.copy(i, 'sample_sketch/')"
   ]
  },
  {
   "cell_type": "code",
   "execution_count": 62,
   "id": "fdaf5ff2-a2be-4cad-9bee-e58f9873ea0f",
   "metadata": {},
   "outputs": [],
   "source": [
    "lst_sketch_random_jpg = []\n",
    "for f in lst_sketch_random:\n",
    "    lst_sketch_random_jpg.append(os.path.split(f)[1])"
   ]
  },
  {
   "cell_type": "code",
   "execution_count": 63,
   "id": "3060cf9f-293f-4483-8a4d-5bad6c93d7c8",
   "metadata": {
    "collapsed": true,
    "jupyter": {
     "outputs_hidden": true
    },
    "tags": []
   },
   "outputs": [
    {
     "data": {
      "text/plain": [
       "['sketch_264_000305.jpg',\n",
       " 'sketch_303_000165.jpg',\n",
       " 'sketch_254_000057.jpg',\n",
       " 'sketch_010_000102.jpg',\n",
       " 'sketch_032_000108.jpg',\n",
       " 'sketch_167_000102.jpg',\n",
       " 'sketch_252_000334.jpg',\n",
       " 'sketch_143_000091.jpg',\n",
       " 'sketch_237_000045.jpg',\n",
       " 'sketch_206_000010.jpg',\n",
       " 'sketch_095_000026.jpg',\n",
       " 'sketch_261_000278.jpg',\n",
       " 'sketch_178_000076.jpg',\n",
       " 'sketch_330_000054.jpg',\n",
       " 'sketch_135_000040.jpg',\n",
       " 'sketch_267_000502.jpg',\n",
       " 'sketch_279_000024.jpg',\n",
       " 'sketch_022_000194.jpg',\n",
       " 'sketch_072_000083.jpg',\n",
       " 'sketch_266_000151.jpg',\n",
       " 'sketch_259_000093.jpg',\n",
       " 'sketch_266_000214.jpg',\n",
       " 'sketch_102_000144.jpg',\n",
       " 'sketch_032_000103.jpg',\n",
       " 'sketch_104_000141.jpg',\n",
       " 'sketch_258_000019.jpg',\n",
       " 'sketch_029_000061.jpg',\n",
       " 'sketch_257_000125.jpg',\n",
       " 'sketch_267_000424.jpg',\n",
       " 'sketch_287_000038.jpg',\n",
       " 'sketch_121_000228.jpg',\n",
       " 'sketch_165_000210.jpg',\n",
       " 'sketch_121_000203.jpg',\n",
       " 'sketch_026_000078.jpg',\n",
       " 'sketch_219_000011.jpg',\n",
       " 'sketch_109_000249.jpg',\n",
       " 'sketch_300_000255.jpg',\n",
       " 'sketch_024_000092.jpg',\n",
       " 'sketch_244_000045.jpg',\n",
       " 'sketch_279_000426.jpg',\n",
       " 'sketch_219_000190.jpg',\n",
       " 'sketch_311_000080.jpg',\n",
       " 'sketch_186_000129.jpg',\n",
       " 'sketch_248_000318.jpg',\n",
       " 'sketch_273_000666.jpg',\n",
       " 'sketch_039_000202.jpg',\n",
       " 'sketch_101_000030.jpg',\n",
       " 'sketch_011_000193.jpg',\n",
       " 'sketch_238_000018.jpg',\n",
       " 'sketch_103_000037.jpg']"
      ]
     },
     "execution_count": 63,
     "metadata": {},
     "output_type": "execute_result"
    }
   ],
   "source": [
    "lst_sketch_random_jpg"
   ]
  },
  {
   "cell_type": "code",
   "execution_count": null,
   "id": "052aa62a-518e-491d-a2ba-d6317335f62b",
   "metadata": {},
   "outputs": [],
   "source": []
  },
  {
   "cell_type": "code",
   "execution_count": null,
   "id": "282b9b11-1243-48f3-9b2a-17b78db7af83",
   "metadata": {},
   "outputs": [],
   "source": []
  },
  {
   "cell_type": "code",
   "execution_count": 66,
   "id": "f09effa3-7a0f-48cc-9227-95894ef7432f",
   "metadata": {},
   "outputs": [
    {
     "data": {
      "text/plain": [
       "'/workspace/sample/app/templates'"
      ]
     },
     "execution_count": 66,
     "metadata": {},
     "output_type": "execute_result"
    }
   ],
   "source": [
    "pwd"
   ]
  },
  {
   "cell_type": "code",
   "execution_count": 67,
   "id": "f7014d26-184d-4cb8-a62f-77b787d33e6f",
   "metadata": {},
   "outputs": [],
   "source": [
    "!cp sample_sketch/* sample_target/"
   ]
  },
  {
   "cell_type": "code",
   "execution_count": 68,
   "id": "50f61a3c-0cdb-4ce2-b4c7-f9034933bbe4",
   "metadata": {},
   "outputs": [],
   "source": [
    "!cp sample_tezuka/* sample_target/ "
   ]
  },
  {
   "cell_type": "code",
   "execution_count": 85,
   "id": "0fbb3257-badb-4d36-b403-70c45f04b4a2",
   "metadata": {
    "collapsed": true,
    "jupyter": {
     "outputs_hidden": true
    },
    "tags": []
   },
   "outputs": [
    {
     "data": {
      "text/plain": [
       "['sample_target/sketch_264_000305.jpg',\n",
       " 'sample_target/02662.jpg',\n",
       " 'sample_target/sketch_311_000080.jpg',\n",
       " 'sample_target/sketch_206_000010.jpg',\n",
       " 'sample_target/05979.jpg',\n",
       " 'sample_target/05939.jpg',\n",
       " 'sample_target/sketch_267_000502.jpg',\n",
       " 'sample_target/sketch_244_000045.jpg',\n",
       " 'sample_target/00897.jpg',\n",
       " 'sample_target/03700.jpg',\n",
       " 'sample_target/sketch_303_000165.jpg',\n",
       " 'sample_target/sketch_257_000125.jpg',\n",
       " 'sample_target/02917.jpg',\n",
       " 'sample_target/05740.jpg',\n",
       " 'sample_target/03486.jpg',\n",
       " 'sample_target/sketch_165_000210.jpg',\n",
       " 'sample_target/01898.jpg',\n",
       " 'sample_target/09160.jpg',\n",
       " 'sample_target/sketch_266_000151.jpg',\n",
       " 'sample_target/sketch_024_000092.jpg',\n",
       " 'sample_target/06852.jpg',\n",
       " 'sample_target/04731.jpg',\n",
       " 'sample_target/06368.jpg',\n",
       " 'sample_target/sketch_279_000426.jpg',\n",
       " 'sample_target/01921.jpg',\n",
       " 'sample_target/sketch_237_000045.jpg',\n",
       " 'sample_target/08465.jpg',\n",
       " 'sample_target/03025.jpg',\n",
       " 'sample_target/sketch_238_000018.jpg',\n",
       " 'sample_target/sketch_039_000202.jpg',\n",
       " 'sample_target/00287.jpg',\n",
       " 'sample_target/00716.jpg',\n",
       " 'sample_target/00928.jpg',\n",
       " 'sample_target/sketch_022_000194.jpg',\n",
       " 'sample_target/05453.jpg',\n",
       " 'sample_target/sketch_029_000061.jpg',\n",
       " 'sample_target/01877.jpg',\n",
       " 'sample_target/sketch_109_000249.jpg',\n",
       " 'sample_target/07845.jpg',\n",
       " 'sample_target/06778.jpg',\n",
       " 'sample_target/00269.jpg',\n",
       " 'sample_target/00407.jpg',\n",
       " 'sample_target/sketch_219_000190.jpg',\n",
       " 'sample_target/sketch_258_000019.jpg',\n",
       " 'sample_target/sketch_254_000057.jpg',\n",
       " 'sample_target/sketch_300_000255.jpg',\n",
       " 'sample_target/05345.jpg',\n",
       " 'sample_target/04411.jpg',\n",
       " 'sample_target/sketch_219_000011.jpg',\n",
       " 'sample_target/sketch_287_000038.jpg',\n",
       " 'sample_target/sketch_259_000093.jpg',\n",
       " 'sample_target/sketch_104_000141.jpg',\n",
       " 'sample_target/07360.jpg',\n",
       " 'sample_target/09030.jpg',\n",
       " 'sample_target/sketch_178_000076.jpg',\n",
       " 'sample_target/00793.jpg',\n",
       " 'sample_target/06217.jpg',\n",
       " 'sample_target/sketch_135_000040.jpg',\n",
       " 'sample_target/sketch_103_000037.jpg',\n",
       " 'sample_target/sketch_266_000214.jpg',\n",
       " 'sample_target/sketch_330_000054.jpg',\n",
       " 'sample_target/sketch_095_000026.jpg',\n",
       " 'sample_target/08323.jpg',\n",
       " 'sample_target/sketch_026_000078.jpg',\n",
       " 'sample_target/05479.jpg',\n",
       " 'sample_target/sketch_102_000144.jpg',\n",
       " 'sample_target/04782.jpg',\n",
       " 'sample_target/sketch_167_000102.jpg',\n",
       " 'sample_target/sketch_261_000278.jpg',\n",
       " 'sample_target/sketch_279_000024.jpg',\n",
       " 'sample_target/sketch_032_000108.jpg',\n",
       " 'sample_target/08266.jpg',\n",
       " 'sample_target/03481.jpg',\n",
       " 'sample_target/00622.jpg',\n",
       " 'sample_target/sketch_186_000129.jpg',\n",
       " 'sample_target/sketch_011_000193.jpg',\n",
       " 'sample_target/06288.jpg',\n",
       " 'sample_target/04665.jpg',\n",
       " 'sample_target/sketch_101_000030.jpg',\n",
       " 'sample_target/sketch_252_000334.jpg',\n",
       " 'sample_target/01310.jpg',\n",
       " 'sample_target/04697.jpg',\n",
       " 'sample_target/sketch_121_000203.jpg',\n",
       " 'sample_target/05205.jpg',\n",
       " 'sample_target/02499.jpg',\n",
       " 'sample_target/05870.jpg',\n",
       " 'sample_target/sketch_072_000083.jpg',\n",
       " 'sample_target/sketch_143_000091.jpg',\n",
       " 'sample_target/sketch_121_000228.jpg',\n",
       " 'sample_target/sketch_010_000102.jpg',\n",
       " 'sample_target/sketch_032_000103.jpg',\n",
       " 'sample_target/01511.jpg',\n",
       " 'sample_target/sketch_267_000424.jpg',\n",
       " 'sample_target/sketch_273_000666.jpg',\n",
       " 'sample_target/09325.jpg',\n",
       " 'sample_target/00533.jpg',\n",
       " 'sample_target/07841.jpg',\n",
       " 'sample_target/04373.jpg',\n",
       " 'sample_target/02705.jpg',\n",
       " 'sample_target/sketch_248_000318.jpg']"
      ]
     },
     "execution_count": 85,
     "metadata": {},
     "output_type": "execute_result"
    }
   ],
   "source": [
    "glob('sample_target/*')"
   ]
  },
  {
   "cell_type": "code",
   "execution_count": 87,
   "id": "cc65dc95-ea1b-43e8-8c5d-3817fd2ef348",
   "metadata": {},
   "outputs": [],
   "source": [
    "lst = []\n",
    "for f in glob('sample_target/*'):\n",
    "    lst.append(os.path.split(f)[1])"
   ]
  },
  {
   "cell_type": "code",
   "execution_count": 88,
   "id": "ffed4ed8-e950-456e-93ce-ac1db1ad9d92",
   "metadata": {},
   "outputs": [
    {
     "data": {
      "text/plain": [
       "['sketch_264_000305.jpg',\n",
       " '02662.jpg',\n",
       " 'sketch_311_000080.jpg',\n",
       " 'sketch_206_000010.jpg',\n",
       " '05979.jpg',\n",
       " '05939.jpg',\n",
       " 'sketch_267_000502.jpg',\n",
       " 'sketch_244_000045.jpg',\n",
       " '00897.jpg',\n",
       " '03700.jpg',\n",
       " 'sketch_303_000165.jpg',\n",
       " 'sketch_257_000125.jpg',\n",
       " '02917.jpg',\n",
       " '05740.jpg',\n",
       " '03486.jpg',\n",
       " 'sketch_165_000210.jpg',\n",
       " '01898.jpg',\n",
       " '09160.jpg',\n",
       " 'sketch_266_000151.jpg',\n",
       " 'sketch_024_000092.jpg',\n",
       " '06852.jpg',\n",
       " '04731.jpg',\n",
       " '06368.jpg',\n",
       " 'sketch_279_000426.jpg',\n",
       " '01921.jpg',\n",
       " 'sketch_237_000045.jpg',\n",
       " '08465.jpg',\n",
       " '03025.jpg',\n",
       " 'sketch_238_000018.jpg',\n",
       " 'sketch_039_000202.jpg',\n",
       " '00287.jpg',\n",
       " '00716.jpg',\n",
       " '00928.jpg',\n",
       " 'sketch_022_000194.jpg',\n",
       " '05453.jpg',\n",
       " 'sketch_029_000061.jpg',\n",
       " '01877.jpg',\n",
       " 'sketch_109_000249.jpg',\n",
       " '07845.jpg',\n",
       " '06778.jpg',\n",
       " '00269.jpg',\n",
       " '00407.jpg',\n",
       " 'sketch_219_000190.jpg',\n",
       " 'sketch_258_000019.jpg',\n",
       " 'sketch_254_000057.jpg',\n",
       " 'sketch_300_000255.jpg',\n",
       " '05345.jpg',\n",
       " '04411.jpg',\n",
       " 'sketch_219_000011.jpg',\n",
       " 'sketch_287_000038.jpg',\n",
       " 'sketch_259_000093.jpg',\n",
       " 'sketch_104_000141.jpg',\n",
       " '07360.jpg',\n",
       " '09030.jpg',\n",
       " 'sketch_178_000076.jpg',\n",
       " '00793.jpg',\n",
       " '06217.jpg',\n",
       " 'sketch_135_000040.jpg',\n",
       " 'sketch_103_000037.jpg',\n",
       " 'sketch_266_000214.jpg',\n",
       " 'sketch_330_000054.jpg',\n",
       " 'sketch_095_000026.jpg',\n",
       " '08323.jpg',\n",
       " 'sketch_026_000078.jpg',\n",
       " '05479.jpg',\n",
       " 'sketch_102_000144.jpg',\n",
       " '04782.jpg',\n",
       " 'sketch_167_000102.jpg',\n",
       " 'sketch_261_000278.jpg',\n",
       " 'sketch_279_000024.jpg',\n",
       " 'sketch_032_000108.jpg',\n",
       " '08266.jpg',\n",
       " '03481.jpg',\n",
       " '00622.jpg',\n",
       " 'sketch_186_000129.jpg',\n",
       " 'sketch_011_000193.jpg',\n",
       " '06288.jpg',\n",
       " '04665.jpg',\n",
       " 'sketch_101_000030.jpg',\n",
       " 'sketch_252_000334.jpg',\n",
       " '01310.jpg',\n",
       " '04697.jpg',\n",
       " 'sketch_121_000203.jpg',\n",
       " '05205.jpg',\n",
       " '02499.jpg',\n",
       " '05870.jpg',\n",
       " 'sketch_072_000083.jpg',\n",
       " 'sketch_143_000091.jpg',\n",
       " 'sketch_121_000228.jpg',\n",
       " 'sketch_010_000102.jpg',\n",
       " 'sketch_032_000103.jpg',\n",
       " '01511.jpg',\n",
       " 'sketch_267_000424.jpg',\n",
       " 'sketch_273_000666.jpg',\n",
       " '09325.jpg',\n",
       " '00533.jpg',\n",
       " '07841.jpg',\n",
       " '04373.jpg',\n",
       " '02705.jpg',\n",
       " 'sketch_248_000318.jpg']"
      ]
     },
     "execution_count": 88,
     "metadata": {},
     "output_type": "execute_result"
    }
   ],
   "source": [
    "lst"
   ]
  },
  {
   "cell_type": "code",
   "execution_count": null,
   "id": "2267f319-4726-4251-8f4d-a154d59ead3a",
   "metadata": {},
   "outputs": [],
   "source": []
  },
  {
   "cell_type": "code",
   "execution_count": null,
   "id": "d88b0c27-d38c-4c6e-b129-5f68f1fb7c55",
   "metadata": {},
   "outputs": [],
   "source": []
  },
  {
   "cell_type": "code",
   "execution_count": 76,
   "id": "cdfc7ac5-f055-48a1-85c1-aa1b8cb66e4d",
   "metadata": {},
   "outputs": [
    {
     "data": {
      "text/plain": [
       "'00269.jpg'"
      ]
     },
     "execution_count": 76,
     "metadata": {},
     "output_type": "execute_result"
    }
   ],
   "source": [
    "os.path.basename('sample_target/00269.jpg')"
   ]
  },
  {
   "cell_type": "code",
   "execution_count": 83,
   "id": "bce1d58c-1362-4e53-94e7-fa1867a55e4d",
   "metadata": {},
   "outputs": [
    {
     "data": {
      "text/plain": [
       "PosixPath('sample_target/00269.jpg')"
      ]
     },
     "execution_count": 83,
     "metadata": {},
     "output_type": "execute_result"
    }
   ],
   "source": [
    "pathlib.Path('sample_target/00269.jpg')"
   ]
  },
  {
   "cell_type": "code",
   "execution_count": 84,
   "id": "d751791b-2a8c-4d21-a345-59e9c22f3f4b",
   "metadata": {},
   "outputs": [
    {
     "data": {
      "text/plain": [
       "[]"
      ]
     },
     "execution_count": 84,
     "metadata": {},
     "output_type": "execute_result"
    }
   ],
   "source": [
    "list(pathlib.Path('sample_target/00269.jpg').glob('*.jpg'))"
   ]
  },
  {
   "cell_type": "code",
   "execution_count": null,
   "id": "e14d2ba9-df34-4560-b062-7d4f9221fb51",
   "metadata": {},
   "outputs": [],
   "source": [
    "p_temp = list(pathlib.Path('hoge/huga').glob('*.txt'))"
   ]
  },
  {
   "cell_type": "code",
   "execution_count": 77,
   "id": "0a587648-aacd-4e9e-b97d-3b46e063532f",
   "metadata": {},
   "outputs": [
    {
     "data": {
      "text/plain": [
       "['sample_target/sketch_264_000305.jpg',\n",
       " 'sample_target/02662.jpg',\n",
       " 'sample_target/sketch_311_000080.jpg',\n",
       " 'sample_target/sketch_206_000010.jpg',\n",
       " 'sample_target/05979.jpg',\n",
       " 'sample_target/05939.jpg',\n",
       " 'sample_target/sketch_267_000502.jpg',\n",
       " 'sample_target/sketch_244_000045.jpg',\n",
       " 'sample_target/00897.jpg',\n",
       " 'sample_target/03700.jpg',\n",
       " 'sample_target/sketch_303_000165.jpg',\n",
       " 'sample_target/sketch_257_000125.jpg',\n",
       " 'sample_target/02917.jpg',\n",
       " 'sample_target/05740.jpg',\n",
       " 'sample_target/03486.jpg',\n",
       " 'sample_target/sketch_165_000210.jpg',\n",
       " 'sample_target/01898.jpg',\n",
       " 'sample_target/09160.jpg',\n",
       " 'sample_target/sketch_266_000151.jpg',\n",
       " 'sample_target/sketch_024_000092.jpg',\n",
       " 'sample_target/06852.jpg',\n",
       " 'sample_target/04731.jpg',\n",
       " 'sample_target/06368.jpg',\n",
       " 'sample_target/sketch_279_000426.jpg',\n",
       " 'sample_target/01921.jpg',\n",
       " 'sample_target/sketch_237_000045.jpg',\n",
       " 'sample_target/08465.jpg',\n",
       " 'sample_target/03025.jpg',\n",
       " 'sample_target/sketch_238_000018.jpg',\n",
       " 'sample_target/sketch_039_000202.jpg',\n",
       " 'sample_target/00287.jpg',\n",
       " 'sample_target/00716.jpg',\n",
       " 'sample_target/00928.jpg',\n",
       " 'sample_target/sketch_022_000194.jpg',\n",
       " 'sample_target/05453.jpg',\n",
       " 'sample_target/sketch_029_000061.jpg',\n",
       " 'sample_target/01877.jpg',\n",
       " 'sample_target/sketch_109_000249.jpg',\n",
       " 'sample_target/07845.jpg',\n",
       " 'sample_target/06778.jpg',\n",
       " 'sample_target/00269.jpg',\n",
       " 'sample_target/00407.jpg',\n",
       " 'sample_target/sketch_219_000190.jpg',\n",
       " 'sample_target/sketch_258_000019.jpg',\n",
       " 'sample_target/sketch_254_000057.jpg',\n",
       " 'sample_target/sketch_300_000255.jpg',\n",
       " 'sample_target/05345.jpg',\n",
       " 'sample_target/04411.jpg',\n",
       " 'sample_target/sketch_219_000011.jpg',\n",
       " 'sample_target/sketch_287_000038.jpg',\n",
       " 'sample_target/sketch_259_000093.jpg',\n",
       " 'sample_target/sketch_104_000141.jpg',\n",
       " 'sample_target/07360.jpg',\n",
       " 'sample_target/09030.jpg',\n",
       " 'sample_target/sketch_178_000076.jpg',\n",
       " 'sample_target/00793.jpg',\n",
       " 'sample_target/06217.jpg',\n",
       " 'sample_target/sketch_135_000040.jpg',\n",
       " 'sample_target/sketch_103_000037.jpg',\n",
       " 'sample_target/sketch_266_000214.jpg',\n",
       " 'sample_target/sketch_330_000054.jpg',\n",
       " 'sample_target/sketch_095_000026.jpg',\n",
       " 'sample_target/08323.jpg',\n",
       " 'sample_target/sketch_026_000078.jpg',\n",
       " 'sample_target/05479.jpg',\n",
       " 'sample_target/sketch_102_000144.jpg',\n",
       " 'sample_target/04782.jpg',\n",
       " 'sample_target/sketch_167_000102.jpg',\n",
       " 'sample_target/sketch_261_000278.jpg',\n",
       " 'sample_target/sketch_279_000024.jpg',\n",
       " 'sample_target/sketch_032_000108.jpg',\n",
       " 'sample_target/08266.jpg',\n",
       " 'sample_target/03481.jpg',\n",
       " 'sample_target/00622.jpg',\n",
       " 'sample_target/sketch_186_000129.jpg',\n",
       " 'sample_target/sketch_011_000193.jpg',\n",
       " 'sample_target/06288.jpg',\n",
       " 'sample_target/04665.jpg',\n",
       " 'sample_target/sketch_101_000030.jpg',\n",
       " 'sample_target/sketch_252_000334.jpg',\n",
       " 'sample_target/01310.jpg',\n",
       " 'sample_target/04697.jpg',\n",
       " 'sample_target/sketch_121_000203.jpg',\n",
       " 'sample_target/05205.jpg',\n",
       " 'sample_target/02499.jpg',\n",
       " 'sample_target/05870.jpg',\n",
       " 'sample_target/sketch_072_000083.jpg',\n",
       " 'sample_target/sketch_143_000091.jpg',\n",
       " 'sample_target/sketch_121_000228.jpg',\n",
       " 'sample_target/sketch_010_000102.jpg',\n",
       " 'sample_target/sketch_032_000103.jpg',\n",
       " 'sample_target/01511.jpg',\n",
       " 'sample_target/sketch_267_000424.jpg',\n",
       " 'sample_target/sketch_273_000666.jpg',\n",
       " 'sample_target/09325.jpg',\n",
       " 'sample_target/00533.jpg',\n",
       " 'sample_target/07841.jpg',\n",
       " 'sample_target/04373.jpg',\n",
       " 'sample_target/02705.jpg',\n",
       " 'sample_target/sketch_248_000318.jpg']"
      ]
     },
     "execution_count": 77,
     "metadata": {},
     "output_type": "execute_result"
    }
   ],
   "source": [
    "glob('sample_target/*')"
   ]
  },
  {
   "cell_type": "code",
   "execution_count": null,
   "id": "306f1bdd-050e-45a8-bfef-9d0389fc85fd",
   "metadata": {},
   "outputs": [],
   "source": []
  }
 ],
 "metadata": {
  "kernelspec": {
   "display_name": "Python 3 (ipykernel)",
   "language": "python",
   "name": "python3"
  },
  "language_info": {
   "codemirror_mode": {
    "name": "ipython",
    "version": 3
   },
   "file_extension": ".py",
   "mimetype": "text/x-python",
   "name": "python",
   "nbconvert_exporter": "python",
   "pygments_lexer": "ipython3",
   "version": "3.8.3"
  }
 },
 "nbformat": 4,
 "nbformat_minor": 5
}
