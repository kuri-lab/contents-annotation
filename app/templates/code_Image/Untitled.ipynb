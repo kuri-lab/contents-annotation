{
 "cells": [
  {
   "cell_type": "code",
   "execution_count": null,
   "id": "18227113-b0d0-4d58-82f8-17c38af503bf",
   "metadata": {},
   "outputs": [],
   "source": [
    "!"
   ]
  }
 ],
 "metadata": {
  "kernelspec": {
   "display_name": "Python 3 (ipykernel)",
   "language": "python",
   "name": "python3"
  },
  "language_info": {
   "name": ""
  }
 },
 "nbformat": 4,
 "nbformat_minor": 5
}
