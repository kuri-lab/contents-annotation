{
 "cells": [
  {
   "cell_type": "code",
   "execution_count": 1,
   "id": "c1fa5da5-2e2e-49b7-bbf9-4aa1ffc34799",
   "metadata": {},
   "outputs": [],
   "source": [
    "import os\n",
    "from glob import glob\n",
    "import shutil\n",
    "import numpy as np\n",
    "import pandas as pd\n",
    "from PIL import Image\n",
    "import re"
   ]
  },
  {
   "cell_type": "code",
   "execution_count": 23,
   "id": "068addc3-6015-4cdf-9c38-913cf817fa0b",
   "metadata": {
    "tags": []
   },
   "outputs": [],
   "source": [
    "# 北村一郎の名前を変更する　北村一郎0000 =>　北村一郎_0000"
   ]
  },
  {
   "cell_type": "code",
   "execution_count": null,
   "id": "fbc2a8ba-0e50-442a-a116-1771e0d44d3a",
   "metadata": {},
   "outputs": [],
   "source": [
    "a = glob('dataset_tezuka_folder/日本発狂/メイン/男/北村市郎/*')\n",
    "a = sorted(a)\n",
    "path = 'dataset_tezuka_folder/日本発狂/メイン/男/北村市郎/'"
   ]
  },
  {
   "cell_type": "code",
   "execution_count": 46,
   "id": "2e12e21d-d166-4f56-a2f4-698ec7b2679d",
   "metadata": {},
   "outputs": [],
   "source": [
    "for f in a:\n",
    "    os.rename(f, os.path.join(path, '北村市郎_' + os.path.basename(f).split('北村市郎')[1]))"
   ]
  },
  {
   "cell_type": "code",
   "execution_count": null,
   "id": "fd86fe4a-c178-4edd-a4ec-b4395c8c1d4d",
   "metadata": {},
   "outputs": [],
   "source": [
    "# 同様にくるみとほんだも"
   ]
  },
  {
   "cell_type": "code",
   "execution_count": 74,
   "id": "3640febc-36ab-4849-bb8b-a8f3871c1f86",
   "metadata": {},
   "outputs": [],
   "source": [
    "a = glob('dataset_tezuka_folder/日本発狂/レギュラー/女/くるみ/*')\n",
    "a = sorted(a)\n",
    "path = 'dataset_tezuka_folder/日本発狂/レギュラー/女/くるみ/'"
   ]
  },
  {
   "cell_type": "code",
   "execution_count": 75,
   "id": "75f7748f-1fd0-4a4f-b17c-2d3925c75c11",
   "metadata": {},
   "outputs": [],
   "source": [
    "for f in a:\n",
    "    os.rename(f, os.path.join(path, 'くるみ_' + os.path.basename(f).split('くるみ')[1]))"
   ]
  },
  {
   "cell_type": "code",
   "execution_count": 76,
   "id": "0d462534-32e8-4ca5-845e-3df2295798b5",
   "metadata": {},
   "outputs": [],
   "source": [
    "a = glob('dataset_tezuka_folder/日本発狂/レギュラー/男/本田/*')\n",
    "a = sorted(a)\n",
    "path = 'dataset_tezuka_folder/日本発狂/レギュラー/男/本田/'"
   ]
  },
  {
   "cell_type": "code",
   "execution_count": 77,
   "id": "2903ab24-b9da-4418-aab6-642db1be24d6",
   "metadata": {},
   "outputs": [],
   "source": [
    "for f in a:\n",
    "    os.rename(f, os.path.join(path, '本田_' + os.path.basename(f).split('本田')[1]))"
   ]
  },
  {
   "cell_type": "code",
   "execution_count": 2,
   "id": "89296bb8-1622-4e4f-8aca-a7a8e088cd89",
   "metadata": {},
   "outputs": [],
   "source": []
  },
  {
   "cell_type": "code",
   "execution_count": 3,
   "id": "b9a076f9-e037-4a0b-95c8-4337200fa901",
   "metadata": {},
   "outputs": [],
   "source": [
    "a = glob('dataset_tezuka_folder/日本発狂/ゲスト/男/ゲタ/*')\n",
    "a = sorted(a)\n",
    "path = 'dataset_tezuka_folder/日本発狂/ゲスト/男/ゲタ/'"
   ]
  },
  {
   "cell_type": "code",
   "execution_count": 4,
   "id": "5531cf58-6ffc-4a68-94b3-031dc9e1be54",
   "metadata": {},
   "outputs": [
    {
     "data": {
      "text/plain": [
       "['dataset_tezuka_folder/日本発狂/ゲスト/男/ゲタ/ゲタ00001.jpg',\n",
       " 'dataset_tezuka_folder/日本発狂/ゲスト/男/ゲタ/ゲタ00002.jpg',\n",
       " 'dataset_tezuka_folder/日本発狂/ゲスト/男/ゲタ/ゲタ00003.jpg',\n",
       " 'dataset_tezuka_folder/日本発狂/ゲスト/男/ゲタ/ゲタ00004.jpg',\n",
       " 'dataset_tezuka_folder/日本発狂/ゲスト/男/ゲタ/ゲタ00005.jpg',\n",
       " 'dataset_tezuka_folder/日本発狂/ゲスト/男/ゲタ/ゲタ00006.jpg',\n",
       " 'dataset_tezuka_folder/日本発狂/ゲスト/男/ゲタ/ゲタ00007.jpg',\n",
       " 'dataset_tezuka_folder/日本発狂/ゲスト/男/ゲタ/ゲタ00008.jpg',\n",
       " 'dataset_tezuka_folder/日本発狂/ゲスト/男/ゲタ/ゲタ00009.jpg',\n",
       " 'dataset_tezuka_folder/日本発狂/ゲスト/男/ゲタ/ゲタ00010.jpg',\n",
       " 'dataset_tezuka_folder/日本発狂/ゲスト/男/ゲタ/ゲタ00011.jpg',\n",
       " 'dataset_tezuka_folder/日本発狂/ゲスト/男/ゲタ/ゲタ00012.jpg',\n",
       " 'dataset_tezuka_folder/日本発狂/ゲスト/男/ゲタ/ゲタ00013.jpg',\n",
       " 'dataset_tezuka_folder/日本発狂/ゲスト/男/ゲタ/ゲタ00014.jpg',\n",
       " 'dataset_tezuka_folder/日本発狂/ゲスト/男/ゲタ/ゲタ00015.jpg']"
      ]
     },
     "execution_count": 4,
     "metadata": {},
     "output_type": "execute_result"
    }
   ],
   "source": [
    "a"
   ]
  },
  {
   "cell_type": "code",
   "execution_count": 5,
   "id": "3fc227f9-5f74-4fc9-935e-4e7d9d19a56a",
   "metadata": {},
   "outputs": [],
   "source": [
    "for f in a:\n",
    "    os.rename(f, os.path.join(path, 'ゲタ_' + os.path.basename(f).split('ゲタ')[1]))"
   ]
  },
  {
   "cell_type": "code",
   "execution_count": 6,
   "id": "bcb40ad1-7c33-425c-9528-fad2f5345d57",
   "metadata": {},
   "outputs": [],
   "source": [
    "a = glob('dataset_tezuka_folder/日本発狂/ゲスト/男/越前/*')\n",
    "a = sorted(a)\n",
    "path = 'dataset_tezuka_folder/日本発狂/ゲスト/男/越前/'"
   ]
  },
  {
   "cell_type": "code",
   "execution_count": 7,
   "id": "1d6015df-73d3-43bc-816a-692b269b6e3a",
   "metadata": {},
   "outputs": [],
   "source": [
    "for f in a:\n",
    "    os.rename(f, os.path.join(path, '越前_' + os.path.basename(f).split('越前')[1]))"
   ]
  },
  {
   "cell_type": "code",
   "execution_count": null,
   "id": "38a5572a-7ead-49fd-8088-aa6f07469867",
   "metadata": {},
   "outputs": [],
   "source": []
  }
 ],
 "metadata": {
  "kernelspec": {
   "display_name": "Python 3 (ipykernel)",
   "language": "python",
   "name": "python3"
  },
  "language_info": {
   "codemirror_mode": {
    "name": "ipython",
    "version": 3
   },
   "file_extension": ".py",
   "mimetype": "text/x-python",
   "name": "python",
   "nbconvert_exporter": "python",
   "pygments_lexer": "ipython3",
   "version": "3.8.3"
  }
 },
 "nbformat": 4,
 "nbformat_minor": 5
}
