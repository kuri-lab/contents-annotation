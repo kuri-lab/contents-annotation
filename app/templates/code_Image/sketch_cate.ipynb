{
 "cells": [
  {
   "cell_type": "code",
   "execution_count": 1,
   "id": "3d81aa08-a3a7-4f26-b115-eccae09ad95d",
   "metadata": {},
   "outputs": [],
   "source": [
    "import os\n",
    "import glob\n",
    "import random\n",
    "import pandas as pd\n",
    "from tqdm import tqdm\n",
    "from PIL import Image"
   ]
  },
  {
   "cell_type": "code",
   "execution_count": 2,
   "id": "c72d8f5d-4622-4edf-98ae-5903b4f6ed69",
   "metadata": {},
   "outputs": [],
   "source": [
    "pd.set_option('display.max_rows', 500)\n",
    "pd.set_option('display.max_columns', 100)\n",
    "pd.options.display.max_colwidth = 100"
   ]
  },
  {
   "cell_type": "code",
   "execution_count": 3,
   "id": "31fd124b-543c-4c85-9b5f-f67b1e32da25",
   "metadata": {},
   "outputs": [],
   "source": [
    "files = sorted(glob.glob('sketch/*/*'))"
   ]
  },
  {
   "cell_type": "code",
   "execution_count": 4,
   "id": "720ad6cb-ac6a-43e0-a01a-de0f1647911b",
   "metadata": {},
   "outputs": [
    {
     "data": {
      "text/plain": [
       "70386"
      ]
     },
     "execution_count": 4,
     "metadata": {},
     "output_type": "execute_result"
    }
   ],
   "source": [
    "len(files)"
   ]
  },
  {
   "cell_type": "markdown",
   "id": "710241a7-cd8c-40af-93ad-3229b7fdfed8",
   "metadata": {},
   "source": [
    "# 縦長・横長の写真を削除"
   ]
  },
  {
   "cell_type": "code",
   "execution_count": 5,
   "id": "08e90027-fadf-4d92-9574-52c1f0eec932",
   "metadata": {},
   "outputs": [
    {
     "name": "stderr",
     "output_type": "stream",
     "text": [
      "100%|██████████████████████████████████████████████████████████████████████████████████████████████████████████████████████████████████████████████████████████████| 70386/70386 [00:06<00:00, 10212.96it/s]\n"
     ]
    }
   ],
   "source": [
    "list_1000 = []\n",
    "for jpg in tqdm(files):\n",
    "    im = Image.open(jpg)\n",
    "    if im.size[0] > 1000:\n",
    "        list_1000.append(jpg)\n",
    "    elif im.size[1] > 1000:\n",
    "        list_1000.append(jpg)"
   ]
  },
  {
   "cell_type": "code",
   "execution_count": 6,
   "id": "a3c904d2-3f37-4ecf-ad26-c27ba464b0f0",
   "metadata": {},
   "outputs": [],
   "source": [
    "list_1000 = list(set(list_1000))"
   ]
  },
  {
   "cell_type": "code",
   "execution_count": 8,
   "id": "8306b366-0df9-4567-90a0-03cdba16492c",
   "metadata": {},
   "outputs": [
    {
     "data": {
      "text/plain": [
       "982"
      ]
     },
     "execution_count": 8,
     "metadata": {},
     "output_type": "execute_result"
    }
   ],
   "source": [
    "len(list_1000)"
   ]
  },
  {
   "cell_type": "code",
   "execution_count": 11,
   "id": "471cae83-174c-4ba4-96da-ed8e291d3b0d",
   "metadata": {},
   "outputs": [],
   "source": [
    "files = [i for i in files if i not in list_1000]"
   ]
  },
  {
   "cell_type": "code",
   "execution_count": 12,
   "id": "91920e2c-f093-408c-8d46-4916aa9c2b1a",
   "metadata": {},
   "outputs": [
    {
     "data": {
      "text/plain": [
       "69404"
      ]
     },
     "execution_count": 12,
     "metadata": {},
     "output_type": "execute_result"
    }
   ],
   "source": [
    "len(files)"
   ]
  },
  {
   "cell_type": "markdown",
   "id": "a9dbecac-a9ef-4ff4-90ae-a421e0643c37",
   "metadata": {},
   "source": [
    "# 各カテゴリーを取り出す"
   ]
  },
  {
   "cell_type": "code",
   "execution_count": 57,
   "id": "b6f89746-d767-4ca7-af7a-7332a665d46e",
   "metadata": {},
   "outputs": [],
   "source": [
    "furniture = [\n",
    "'table',\n",
    "'teapot',\n",
    "'streetlight',\n",
    "'umbrella',\n",
    "'wine',\n",
    "'glass',\n",
    "'stairs',\n",
    "'vase',\n",
    "'toothbrush',\n",
    "'suitcase',\n",
    "'toilet',\n",
    "'stove',\n",
    "'bed',\n",
    "'toothpaste',\n",
    "'see_saw',\n",
    "'ladder',\n",
    "'bench',\n",
    "'pillow',\n",
    "'hot', \n",
    "'tub',\n",
    "'fence',\n",
    "'door',\n",
    "'sleeping_bag',\n",
    "'fireplace', \n",
    "'lantern',\n",
    "'bathtub',\n",
    "'couch',\n",
    "'swing_set',\n",
    "'sink',\n",
    "'mailbox',\n",
    "'postcard',\n",
    "'picture_frame',\n",
    "'floor_lamp',\n",
    "'chandelier',\n",
    "'chair',\n",
    "'dresser',\n",
    "'ceiling_fan',]"
   ]
  },
  {
   "cell_type": "code",
   "execution_count": 76,
   "id": "3d727d5b-b338-463b-8cd0-09e668e6cc44",
   "metadata": {},
   "outputs": [
    {
     "name": "stdout",
     "output_type": "stream",
     "text": [
      "['sketch/table/sketch_302_000001.jpg']\n",
      "['sketch/teapot/sketch_303_000001.jpg']\n",
      "['sketch/streetlight/sketch_292_000001.jpg']\n",
      "['sketch/umbrella/sketch_329_000001.jpg']\n",
      "['sketch/wine_bottle/sketch_340_000001.jpg']\n",
      "['sketch/eyeglasses/sketch_108_000001.jpg']\n",
      "['sketch/stairs/sketch_283_000001.jpg']\n",
      "['sketch/vase/sketch_332_000001.jpg']\n",
      "['sketch/toothbrush/sketch_317_000001.jpg']\n",
      "['sketch/suitcase/sketch_295_000001.jpg']\n",
      "['sketch/toilet/sketch_315_000001.jpg']\n",
      "['sketch/stove/sketch_290_000001.jpg']\n",
      "['sketch/bed/sketch_026_000001.jpg']\n",
      "['sketch/toothpaste/sketch_318_000001.jpg']\n",
      "['sketch/see_saw/sketch_257_000001.jpg']\n",
      "['sketch/ladder/sketch_165_000001.jpg']\n",
      "['sketch/bench/sketch_029_000001.jpg']\n",
      "['sketch/pillow/sketch_224_000001.jpg']\n",
      "['sketch/hot_air_balloon/sketch_150_000001.jpg']\n",
      "['sketch/bathtub/sketch_022_000001.jpg']\n",
      "['sketch/fence/sketch_112_000001.jpg']\n",
      "['sketch/door/sketch_095_000001.jpg']\n",
      "['sketch/sleeping_bag/sketch_267_000001.jpg']\n",
      "['sketch/fireplace/sketch_115_000001.jpg']\n",
      "['sketch/lantern/sketch_166_000001.jpg']\n",
      "['sketch/bathtub/sketch_022_000001.jpg']\n",
      "['sketch/couch/sketch_081_000001.jpg']\n",
      "['sketch/swing_set/sketch_299_000001.jpg']\n",
      "['sketch/sink/sketch_263_000001.jpg']\n",
      "['sketch/mailbox/sketch_179_000001.jpg']\n",
      "['sketch/postcard/sketch_232_000001.jpg']\n",
      "['sketch/picture_frame/sketch_222_000001.jpg']\n",
      "['sketch/floor_lamp/sketch_121_000001.jpg']\n",
      "['sketch/chandelier/sketch_070_000001.jpg']\n",
      "['sketch/chair/sketch_069_000001.jpg']\n",
      "['sketch/dresser/sketch_097_000001.jpg']\n",
      "['sketch/ceiling_fan/sketch_066_000001.jpg']\n"
     ]
    }
   ],
   "source": [
    "for f in furniture:\n",
    "    print([i for i in files if f in i][:1])"
   ]
  },
  {
   "cell_type": "code",
   "execution_count": 77,
   "id": "6779ba5e-24fe-423b-b137-5069aaa0a38a",
   "metadata": {},
   "outputs": [
    {
     "data": {
      "text/plain": [
       "8324"
      ]
     },
     "execution_count": 77,
     "metadata": {},
     "output_type": "execute_result"
    }
   ],
   "source": [
    "files_cate = []\n",
    "for f in furniture:\n",
    "    files_cate += [i for i in files if f in i]\n",
    "# 重複削除\n",
    "files_furniture = list(set(files_cate))\n",
    "len(files_furniture)"
   ]
  },
  {
   "cell_type": "code",
   "execution_count": null,
   "id": "624a91c9-16c1-452c-a094-199f2a8be2f9",
   "metadata": {},
   "outputs": [],
   "source": []
  },
  {
   "cell_type": "code",
   "execution_count": 78,
   "id": "199ba7cd-5f11-4a05-acdb-d850123ccfc0",
   "metadata": {},
   "outputs": [],
   "source": [
    "mammal = [\n",
    "'squirrel',\n",
    "'dog',\n",
    "'whale',\n",
    "'tiger',\n",
    "'zebra',\n",
    "'sheep',\n",
    "'elephant',\n",
    "'horse',\n",
    "'cat',\n",
    "'raccoon',\n",
    "'monkey', \n",
    "'lion',\n",
    "'pig', \n",
    "'bear',\n",
    "'dolphin', \n",
    "'rabbit',\n",
    "'rhinoceros',\n",
    "'hedgehog', \n",
    "'giraffe', \n",
    "'kangaroo', \n",
    "'panda',\n",
    "'camel',\n",
    "'cow',\n",
    "'bat',\n",
    "'mouse']"
   ]
  },
  {
   "cell_type": "code",
   "execution_count": 79,
   "id": "d3c21d4e-ce90-4d7f-bce5-4199b8d1271f",
   "metadata": {},
   "outputs": [
    {
     "name": "stdout",
     "output_type": "stream",
     "text": [
      "['sketch/squirrel/sketch_282_000001.jpg']\n",
      "['sketch/dog/sketch_092_000001.jpg']\n",
      "['sketch/whale/sketch_337_000001.jpg']\n",
      "['sketch/tiger/sketch_312_000001.jpg']\n",
      "['sketch/zebra/sketch_344_000001.jpg']\n",
      "['sketch/sheep/sketch_259_000001.jpg']\n",
      "['sketch/elephant/sketch_104_000001.jpg']\n",
      "['sketch/horse/sketch_148_000001.jpg']\n",
      "['sketch/cat/sketch_065_000001.jpg']\n",
      "['sketch/raccoon/sketch_237_000001.jpg']\n",
      "['sketch/monkey/sketch_187_000001.jpg']\n",
      "['sketch/lion/sketch_175_000001.jpg']\n",
      "['sketch/pig/sketch_223_000001.jpg']\n",
      "['sketch/bear/sketch_024_000001.jpg']\n",
      "['sketch/dolphin/sketch_093_000001.jpg']\n",
      "['sketch/rabbit/sketch_236_000001.jpg']\n",
      "['sketch/rhinoceros/sketch_243_000001.jpg']\n",
      "['sketch/hedgehog/sketch_142_000001.jpg']\n",
      "['sketch/giraffe/sketch_130_000001.jpg']\n",
      "['sketch/kangaroo/sketch_160_000001.jpg']\n",
      "['sketch/panda/sketch_209_000001.jpg']\n",
      "['sketch/camel/sketch_055_000001.jpg']\n",
      "['sketch/cow/sketch_082_000001.jpg']\n",
      "['sketch/baseball_bat/sketch_018_000001.jpg']\n",
      "['sketch/mouse/sketch_192_000001.jpg']\n"
     ]
    }
   ],
   "source": [
    "for f in mammal:\n",
    "    print([i for i in files if f in i][:1])"
   ]
  },
  {
   "cell_type": "code",
   "execution_count": 80,
   "id": "d293e7c9-f224-4084-acf2-d0a673505831",
   "metadata": {},
   "outputs": [
    {
     "data": {
      "text/plain": [
       "6370"
      ]
     },
     "execution_count": 80,
     "metadata": {},
     "output_type": "execute_result"
    }
   ],
   "source": [
    "files_cate = []\n",
    "for f in mammal:\n",
    "    files_cate += [i for i in files if f in i]\n",
    "# 重複削除\n",
    "files_mammal = list(set(files_cate))\n",
    "len(list(set(files_cate)))"
   ]
  },
  {
   "cell_type": "code",
   "execution_count": null,
   "id": "d04d6cd3-0d39-4246-888a-5d8465bd102d",
   "metadata": {},
   "outputs": [],
   "source": []
  },
  {
   "cell_type": "code",
   "execution_count": 81,
   "id": "7f4f8054-02e6-424b-b74a-ccada5c85d00",
   "metadata": {},
   "outputs": [],
   "source": [
    "tool = [\n",
    "'nail',\n",
    "'sword',\n",
    "'stethoscope', \n",
    "'skateboard',\n",
    "'dumbbell',\n",
    "'bottlecap',\n",
    "'shovel',\n",
    "'basket',\n",
    "'syringe',\n",
    "'broom',\n",
    "'rifle',\n",
    "'wheel',\n",
    "'screwdriver',\n",
    "'bandage',\n",
    "'pliers',\n",
    "'axe',\n",
    "'rake',\n",
    "'boomerang',\n",
    "'drill',\n",
    "'paint',\n",
    "'can',\n",
    "'passport',\n",
    "'bucket',\n",
    "'stitches',\n",
    "'anvil',\n",
    "'hammer',\n",
    "'compass',\n",
    "'key',\n",
    "'saw',]"
   ]
  },
  {
   "cell_type": "code",
   "execution_count": 85,
   "id": "19224d5a-baaa-4165-ab54-b1844fc1e944",
   "metadata": {},
   "outputs": [
    {
     "data": {
      "text/plain": [
       "6762"
      ]
     },
     "execution_count": 85,
     "metadata": {},
     "output_type": "execute_result"
    }
   ],
   "source": [
    "files_cate = []\n",
    "for f in tool:\n",
    "    files_cate += [i for i in files if f in i]\n",
    "# 重複削除\n",
    "files_tool = list(set(files_cate))\n",
    "len(list(set(files_cate)))"
   ]
  },
  {
   "cell_type": "code",
   "execution_count": null,
   "id": "388a0e7f-97ca-4c39-9da8-3608ac25dde8",
   "metadata": {},
   "outputs": [],
   "source": []
  },
  {
   "cell_type": "code",
   "execution_count": 86,
   "id": "379524da-f324-48a2-a89b-5e055676742d",
   "metadata": {},
   "outputs": [],
   "source": [
    "cloth = [\n",
    "'shoe',\n",
    "'sock',\n",
    "'bracelet',\n",
    "'wristwatch',\n",
    "'bowtie',\n",
    "'necklace',\n",
    "'hat',\n",
    "'shorts',\n",
    "'eyeglasses',\n",
    "'helmet',\n",
    "'sweater',\n",
    "'rollerskates',\n",
    "'pants',\n",
    "'flip',\n",
    "'flops',\n",
    "'underwear',\n",
    "'belt',\n",
    "'diamond',\n",
    "'purse',\n",
    "'jacket',\n",
    "'lipstick',\n",
    "'t-shirt',\n",
    "'crown',\n",
    "'camouflage',]"
   ]
  },
  {
   "cell_type": "code",
   "execution_count": 87,
   "id": "c98a3cdf-87bf-4310-ae55-84005f0c723a",
   "metadata": {},
   "outputs": [
    {
     "data": {
      "text/plain": [
       "4773"
      ]
     },
     "execution_count": 87,
     "metadata": {},
     "output_type": "execute_result"
    }
   ],
   "source": [
    "files_cate = []\n",
    "for f in cloth:\n",
    "    files_cate += [i for i in files if f in i]\n",
    "# 重複削除\n",
    "files_cloth = list(set(files_cate))\n",
    "len(list(set(files_cate)))"
   ]
  },
  {
   "cell_type": "code",
   "execution_count": 88,
   "id": "640d160e-1d0e-48bb-b714-d7b9c2e07010",
   "metadata": {},
   "outputs": [],
   "source": [
    "electricity = [\n",
    "'spreadsheet',\n",
    "'toaster',\n",
    "'headphones',\n",
    "'washing',\n",
    "'machine',\n",
    "'light',\n",
    "'bulb',\n",
    "'television',\n",
    "'flashlight',\n",
    "'telephone',\n",
    "'microphone',\n",
    "'megaphone',\n",
    "'keyboard',\n",
    "'laptop',\n",
    "'stereo',\n",
    "'power',\n",
    "'outlet',\n",
    "'remote',\n",
    "'control',\n",
    "'cell',\n",
    "'phone',\n",
    "'camera',\n",
    "'cooler',\n",
    "'dishwasher',\n",
    "'computer',\n",
    "'radio',\n",
    "'oven',\n",
    "'fan',\n",
    "'microwave',\n",
    "'calculator',]"
   ]
  },
  {
   "cell_type": "code",
   "execution_count": 89,
   "id": "bd7db754-6186-483b-abde-25709c3b573d",
   "metadata": {},
   "outputs": [
    {
     "data": {
      "text/plain": [
       "5372"
      ]
     },
     "execution_count": 89,
     "metadata": {},
     "output_type": "execute_result"
    }
   ],
   "source": [
    "files_cate = []\n",
    "for f in electricity:\n",
    "    files_cate += [i for i in files if f in i]\n",
    "# 重複削除\n",
    "files_electricity = list(set(files_cate))\n",
    "len(list(set(files_cate)))"
   ]
  },
  {
   "cell_type": "code",
   "execution_count": 97,
   "id": "4c218a0a-5bb0-4615-b8d5-c2ed1a5dca3a",
   "metadata": {},
   "outputs": [],
   "source": [
    "building = [\n",
    "'golf_club',\n",
    "'windmill',\n",
    "'lighthouse',\n",
    "'bridge',\n",
    "'pond',\n",
    "'garden',\n",
    "'tent',\n",
    "'Tower',\n",
    "'square',\n",
    "'skyscraper',\n",
    "'barn',\n",
    "'waterslide',\n",
    "'pool',\n",
    "'castle',\n",
    "'house',\n",
    "'Wall',\n",
    "'garden',\n",
    "'hose',\n",
    "'diving_board',\n",
    "'church',\n",
    "'hospital',]"
   ]
  },
  {
   "cell_type": "code",
   "execution_count": 98,
   "id": "c228c3b8-a96e-4e20-afb4-4f9ebe2ddeb5",
   "metadata": {},
   "outputs": [
    {
     "name": "stdout",
     "output_type": "stream",
     "text": [
      "['sketch/golf_club/sketch_132_000001.jpg']\n",
      "['sketch/windmill/sketch_339_000001.jpg']\n",
      "['sketch/lighthouse/sketch_172_000001.jpg']\n",
      "['sketch/bridge/sketch_043_000001.jpg']\n",
      "['sketch/pond/sketch_229_000001.jpg']\n",
      "['sketch/garden/sketch_128_000001.jpg']\n",
      "['sketch/tent/sketch_308_000001.jpg']\n",
      "['sketch/The_Eiffel_Tower/sketch_309_000001.jpg']\n",
      "['sketch/square/sketch_280_000001.jpg']\n",
      "['sketch/skyscraper/sketch_266_000001.jpg']\n",
      "['sketch/barn/sketch_016_000001.jpg']\n",
      "['sketch/waterslide/sketch_336_000001.jpg']\n",
      "['sketch/pool/sketch_230_000001.jpg']\n",
      "['sketch/castle/sketch_064_000001.jpg']\n",
      "['sketch/house/sketch_154_000001.jpg']\n",
      "['sketch/The_Great_Wall_of_China/sketch_310_000001.jpg']\n",
      "['sketch/garden/sketch_128_000001.jpg']\n",
      "['sketch/garden_hose/sketch_129_000001.jpg']\n",
      "['sketch/diving_board/sketch_091_000001.jpg']\n",
      "['sketch/church/sketch_071_000001.jpg']\n",
      "['sketch/hospital/sketch_149_000001.jpg']\n"
     ]
    }
   ],
   "source": [
    "for f in building:\n",
    "    print([i for i in files if f in i][:1])"
   ]
  },
  {
   "cell_type": "code",
   "execution_count": 99,
   "id": "9ca338e5-9b57-4c26-a9f7-5058b3d66a86",
   "metadata": {},
   "outputs": [
    {
     "data": {
      "text/plain": [
       "4739"
      ]
     },
     "execution_count": 99,
     "metadata": {},
     "output_type": "execute_result"
    }
   ],
   "source": [
    "files_cate = []\n",
    "for f in building:\n",
    "    files_cate += [i for i in files if f in i]\n",
    "# 重複削除\n",
    "files_building = list(set(files_cate))\n",
    "len(list(set(files_cate)))"
   ]
  },
  {
   "cell_type": "code",
   "execution_count": 103,
   "id": "efb1c10d-6953-4842-a29a-087c90e208c4",
   "metadata": {},
   "outputs": [],
   "source": [
    "office = [\n",
    "'jail',\n",
    "'nail',\n",
    "'cup',\n",
    "'mug',\n",
    "'coffee_cup',\n",
    "'scissors',\n",
    "'map',\n",
    "'envelope',\n",
    "'backpack',\n",
    "'book',\n",
    "'candle',\n",
    "'binoculars',\n",
    "'pencil',\n",
    "'clock',\n",
    "'bandage',\n",
    "'crayon',\n",
    "'paper_clip',\n",
    "'alarm_clock',\n",
    "'paintbrush',\n",
    "'marker',\n",
    "'eraser',\n",
    "'calendar',]"
   ]
  },
  {
   "cell_type": "code",
   "execution_count": 104,
   "id": "8987a52b-75e0-42c3-a001-c2fbbde2e520",
   "metadata": {},
   "outputs": [
    {
     "name": "stdout",
     "output_type": "stream",
     "text": [
      "['sketch/jail/sketch_159_000001.jpg']\n",
      "['sketch/nail/sketch_197_000001.jpg']\n",
      "['sketch/coffee_cup/sketch_076_000001.jpg']\n",
      "['sketch/mug/sketch_195_000001.jpg']\n",
      "['sketch/coffee_cup/sketch_076_000001.jpg']\n",
      "['sketch/scissors/sketch_253_000001.jpg']\n",
      "['sketch/map/sketch_180_000001.jpg']\n",
      "['sketch/envelope/sketch_105_000001.jpg']\n",
      "['sketch/backpack/sketch_013_000001.jpg']\n",
      "['sketch/book/sketch_036_000001.jpg']\n",
      "['sketch/candle/sketch_059_000001.jpg']\n",
      "['sketch/binoculars/sketch_031_000001.jpg']\n",
      "['sketch/pencil/sketch_218_000001.jpg']\n",
      "['sketch/alarm_clock/sketch_003_000001.jpg']\n",
      "['sketch/bandage/sketch_015_000001.jpg']\n",
      "['sketch/crayon/sketch_084_000001.jpg']\n",
      "['sketch/paper_clip/sketch_211_000001.jpg']\n",
      "['sketch/alarm_clock/sketch_003_000001.jpg']\n",
      "['sketch/paintbrush/sketch_206_000001.jpg']\n",
      "['sketch/marker/sketch_181_000001.jpg']\n",
      "['sketch/eraser/sketch_106_000001.jpg']\n",
      "['sketch/calendar/sketch_054_000001.jpg']\n"
     ]
    }
   ],
   "source": [
    "for f in office:\n",
    "    print([i for i in files if f in i][:1])"
   ]
  },
  {
   "cell_type": "code",
   "execution_count": 105,
   "id": "65490383-411f-4ac7-8e19-e300e283533d",
   "metadata": {},
   "outputs": [
    {
     "data": {
      "text/plain": [
       "3791"
      ]
     },
     "execution_count": 105,
     "metadata": {},
     "output_type": "execute_result"
    }
   ],
   "source": [
    "files_cate = []\n",
    "for f in office:\n",
    "    files_cate += [i for i in files if f in i]\n",
    "# 重複削除\n",
    "files_office = list(set(files_cate))\n",
    "len(list(set(files_cate)))"
   ]
  },
  {
   "cell_type": "code",
   "execution_count": 106,
   "id": "1beb5327-6839-4de7-a9c1-2c5e93416514",
   "metadata": {},
   "outputs": [],
   "source": [
    "human_body = [\n",
    "'beard',\n",
    "'eye',\n",
    "'brain',\n",
    "'hand',\n",
    "'goatee',\n",
    "'face',\n",
    "'skull',\n",
    "'nose',\n",
    "'leg',\n",
    "'moustache',\n",
    "'finger',\n",
    "'tooth',\n",
    "'foot',\n",
    "'arm',\n",
    "'knee',\n",
    "'toe',\n",
    "'elbow',\n",
    "'smiley',\n",
    "'face',\n",
    "'mouth',]"
   ]
  },
  {
   "cell_type": "code",
   "execution_count": 107,
   "id": "62325786-96d9-4788-ba97-db97ca747705",
   "metadata": {},
   "outputs": [
    {
     "name": "stdout",
     "output_type": "stream",
     "text": [
      "['sketch/beard/sketch_025_000001.jpg']\n",
      "['sketch/eye/sketch_107_000001.jpg']\n",
      "['sketch/brain/sketch_041_000001.jpg']\n",
      "['sketch/chandelier/sketch_070_000001.jpg']\n",
      "['sketch/goatee/sketch_131_000001.jpg']\n",
      "['sketch/face/sketch_109_000001.jpg']\n",
      "['sketch/skull/sketch_265_000001.jpg']\n",
      "['sketch/nose/sketch_199_000001.jpg']\n",
      "['sketch/leg/sketch_169_000001.jpg']\n",
      "['sketch/moustache/sketch_193_000001.jpg']\n",
      "['sketch/finger/sketch_113_000001.jpg']\n",
      "['sketch/tooth/sketch_316_000001.jpg']\n",
      "['sketch/foot/sketch_124_000001.jpg']\n",
      "['sketch/alarm_clock/sketch_003_000001.jpg']\n",
      "['sketch/knee/sketch_163_000001.jpg']\n",
      "['sketch/toe/sketch_314_000001.jpg']\n",
      "['sketch/elbow/sketch_103_000001.jpg']\n",
      "['sketch/smiley_face/sketch_268_000001.jpg']\n",
      "['sketch/face/sketch_109_000001.jpg']\n",
      "['sketch/mouth/sketch_194_000001.jpg']\n"
     ]
    }
   ],
   "source": [
    "for f in human_body:\n",
    "    print([i for i in files if f in i][:1])"
   ]
  },
  {
   "cell_type": "code",
   "execution_count": 108,
   "id": "bcc09ce3-2914-4f07-8a4e-cb29610d512e",
   "metadata": {},
   "outputs": [
    {
     "data": {
      "text/plain": [
       "6002"
      ]
     },
     "execution_count": 108,
     "metadata": {},
     "output_type": "execute_result"
    }
   ],
   "source": [
    "files_cate = []\n",
    "for f in human_body:\n",
    "    files_cate += [i for i in files if f in i]\n",
    "# 重複削除\n",
    "files_human_body = list(set(files_cate))\n",
    "len(list(set(files_cate)))"
   ]
  },
  {
   "cell_type": "code",
   "execution_count": 149,
   "id": "8623e589-3c09-4a07-b07f-f2eb6a7f1e8a",
   "metadata": {
    "tags": []
   },
   "outputs": [],
   "source": [
    "raod_transport = [\n",
    "'truck',\n",
    "'train',\n",
    "'van',\n",
    "'bicycle',\n",
    "'tractor',\n",
    "'firetruck',\n",
    "'bus',\n",
    "'motorbike',\n",
    "'school',\n",
    "'bus',\n",
    "'car',\n",
    "'pickup',\n",
    "'truck',\n",
    "'police',\n",
    "'car',\n",
    "'bulldozer',\n",
    "'roller_coaster',\n",
    "'ambulance']"
   ]
  },
  {
   "cell_type": "code",
   "execution_count": 150,
   "id": "dd28f3a6-932c-4340-a25e-3f963de7f4e3",
   "metadata": {},
   "outputs": [
    {
     "name": "stdout",
     "output_type": "stream",
     "text": [
      "['sketch/firetruck/sketch_116_000001.jpg']\n",
      "['sketch/train/sketch_322_000001.jpg']\n",
      "['sketch/van/sketch_331_000001.jpg']\n",
      "['sketch/bicycle/sketch_030_000001.jpg']\n",
      "['sketch/tractor/sketch_320_000001.jpg']\n",
      "['sketch/firetruck/sketch_116_000001.jpg']\n",
      "['sketch/bus/sketch_048_000001.jpg']\n",
      "['sketch/motorbike/sketch_190_000001.jpg']\n",
      "['sketch/school_bus/sketch_252_000001.jpg']\n",
      "['sketch/bus/sketch_048_000001.jpg']\n",
      "['sketch/aircraft_carrier/sketch_001_000001.jpg']\n",
      "['sketch/pickup_truck/sketch_221_000001.jpg']\n",
      "['sketch/firetruck/sketch_116_000001.jpg']\n",
      "['sketch/police_car/sketch_228_000001.jpg']\n",
      "['sketch/aircraft_carrier/sketch_001_000001.jpg']\n",
      "['sketch/bulldozer/sketch_047_000001.jpg']\n",
      "['sketch/roller_coaster/sketch_246_000001.jpg']\n",
      "['sketch/ambulance/sketch_004_000001.jpg']\n"
     ]
    }
   ],
   "source": [
    "for f in raod_transport:\n",
    "    print([i for i in files if f in i][:1])"
   ]
  },
  {
   "cell_type": "code",
   "execution_count": 151,
   "id": "5ebc3e3f-cbb5-42f6-a5d3-1ab99be44d34",
   "metadata": {},
   "outputs": [
    {
     "data": {
      "text/plain": [
       "4003"
      ]
     },
     "execution_count": 151,
     "metadata": {},
     "output_type": "execute_result"
    }
   ],
   "source": [
    "files_cate = []\n",
    "for f in raod_transport:\n",
    "    files_cate += [i for i in files if f in i]\n",
    "# 重複削除\n",
    "files_raod_transport = list(set(files_cate))\n",
    "len(list(set(files_cate)))"
   ]
  },
  {
   "cell_type": "code",
   "execution_count": 158,
   "id": "2e646f7d-89d5-4652-8029-6b599c7aa9a0",
   "metadata": {},
   "outputs": [],
   "source": [
    "food = [\n",
    "'bread',\n",
    "'steak',\n",
    "'ice_cream',\n",
    "'donut',\n",
    "'popsicle',\n",
    "'hamburger',\n",
    "'cake',\n",
    "'pizza',\n",
    "'sandwich',\n",
    "'hot_dog',\n",
    "'lollipop',\n",
    "'cookie',\n",
    "'birthday',\n",
    "'cake',\n",
    "'peanut',]"
   ]
  },
  {
   "cell_type": "code",
   "execution_count": 159,
   "id": "17494815-256b-45d5-bb4c-ac8d926a898a",
   "metadata": {},
   "outputs": [
    {
     "name": "stdout",
     "output_type": "stream",
     "text": [
      "['sketch/bread/sketch_042_000001.jpg']\n",
      "['sketch/steak/sketch_285_000001.jpg']\n",
      "['sketch/ice_cream/sketch_157_000001.jpg']\n",
      "['sketch/donut/sketch_094_000001.jpg']\n",
      "['sketch/popsicle/sketch_231_000001.jpg']\n",
      "['sketch/hamburger/sketch_136_000001.jpg']\n",
      "['sketch/birthday_cake/sketch_033_000001.jpg']\n",
      "['sketch/pizza/sketch_226_000001.jpg']\n",
      "['sketch/sandwich/sketch_249_000001.jpg']\n",
      "['sketch/hot_dog/sketch_151_000001.jpg']\n",
      "['sketch/lollipop/sketch_178_000001.jpg']\n",
      "['sketch/cookie/sketch_079_000001.jpg']\n",
      "['sketch/birthday_cake/sketch_033_000001.jpg']\n",
      "['sketch/birthday_cake/sketch_033_000001.jpg']\n",
      "['sketch/peanut/sketch_215_000001.jpg']\n"
     ]
    }
   ],
   "source": [
    "for f in food:\n",
    "    print([i for i in files if f in i][:1])"
   ]
  },
  {
   "cell_type": "code",
   "execution_count": 161,
   "id": "7baf4d13-bbc6-474e-8bec-fcb63555b6b1",
   "metadata": {},
   "outputs": [
    {
     "data": {
      "text/plain": [
       "2167"
      ]
     },
     "execution_count": 161,
     "metadata": {},
     "output_type": "execute_result"
    }
   ],
   "source": [
    "files_cate = []\n",
    "for f in food:\n",
    "    files_cate += [i for i in files if f in i]\n",
    "# 重複削除\n",
    "files_food = list(set(files_cate))\n",
    "len(list(set(files_cate)))"
   ]
  },
  {
   "cell_type": "code",
   "execution_count": 163,
   "id": "33fe41bd-6aa2-4a69-a9b8-005d44820edc",
   "metadata": {},
   "outputs": [],
   "source": [
    "nature =[\n",
    "'river',\n",
    "'sun',\n",
    "'tornado',\n",
    "'beach',\n",
    "'mountain',\n",
    "'moon',\n",
    "'ocean',\n",
    "'snowflake',\n",
    "'lightning',\n",
    "'cloud',\n",
    "'rain',\n",
    "'hurricane',\n",
    "'star',\n",
    "'rainbow',]"
   ]
  },
  {
   "cell_type": "code",
   "execution_count": 164,
   "id": "ea150fc6-a4e7-438d-8a0f-ca2c7ac8fe16",
   "metadata": {},
   "outputs": [
    {
     "name": "stdout",
     "output_type": "stream",
     "text": [
      "['sketch/river/sketch_245_000001.jpg']\n",
      "['sketch/sun/sketch_296_000001.jpg']\n",
      "['sketch/tornado/sketch_319_000001.jpg']\n",
      "['sketch/beach/sketch_023_000001.jpg']\n",
      "['sketch/mountain/sketch_191_000001.jpg']\n",
      "['sketch/moon/sketch_188_000001.jpg']\n",
      "['sketch/ocean/sketch_200_000001.jpg']\n",
      "['sketch/snowflake/sketch_272_000001.jpg']\n",
      "['sketch/lightning/sketch_173_000001.jpg']\n",
      "['sketch/cloud/sketch_075_000001.jpg']\n",
      "['sketch/brain/sketch_041_000001.jpg']\n",
      "['sketch/hurricane/sketch_156_000001.jpg']\n",
      "['sketch/star/sketch_284_000001.jpg']\n",
      "['sketch/rainbow/sketch_240_000001.jpg']\n"
     ]
    }
   ],
   "source": [
    "for f in nature:\n",
    "    print([i for i in files if f in i][:1])"
   ]
  },
  {
   "cell_type": "code",
   "execution_count": 165,
   "id": "c5c85ba7-d957-40bf-9ef1-c2b0c31ac9fe",
   "metadata": {},
   "outputs": [
    {
     "data": {
      "text/plain": [
       "3174"
      ]
     },
     "execution_count": 165,
     "metadata": {},
     "output_type": "execute_result"
    }
   ],
   "source": [
    "files_cate = []\n",
    "for f in nature:\n",
    "    files_cate += [i for i in files if f in i]\n",
    "# 重複削除\n",
    "files_nature = list(set(files_cate))\n",
    "len(list(set(files_cate)))"
   ]
  },
  {
   "cell_type": "code",
   "execution_count": null,
   "id": "017bf948-5315-4e2b-a35c-c450e8d1112e",
   "metadata": {},
   "outputs": [],
   "source": []
  },
  {
   "cell_type": "code",
   "execution_count": 166,
   "id": "f09c18a7-e431-453f-8cf5-773fe253a855",
   "metadata": {},
   "outputs": [],
   "source": [
    "cold_blooded  = [\n",
    "'spider',\n",
    "'sea',\n",
    "'turtle',\n",
    "'snake',\n",
    "'fish',\n",
    "'shark',\n",
    "'octopus',\n",
    "'frog',\n",
    "'snail',\n",
    "'lobster',\n",
    "'scorpion',\n",
    "'crocodile',\n",
    "'crab',]"
   ]
  },
  {
   "cell_type": "code",
   "execution_count": 167,
   "id": "d06314aa-1627-4696-a7b1-564839344b20",
   "metadata": {},
   "outputs": [
    {
     "name": "stdout",
     "output_type": "stream",
     "text": [
      "['sketch/spider/sketch_277_000001.jpg']\n",
      "['sketch/sea_turtle/sketch_256_000001.jpg']\n",
      "['sketch/sea_turtle/sketch_256_000001.jpg']\n",
      "['sketch/snake/sketch_270_000001.jpg']\n",
      "['sketch/fish/sketch_117_000001.jpg']\n",
      "['sketch/shark/sketch_258_000001.jpg']\n",
      "['sketch/octopus/sketch_202_000001.jpg']\n",
      "['sketch/frog/sketch_126_000001.jpg']\n",
      "['sketch/snail/sketch_269_000001.jpg']\n",
      "['sketch/lobster/sketch_177_000001.jpg']\n",
      "['sketch/scorpion/sketch_254_000001.jpg']\n",
      "['sketch/crocodile/sketch_085_000001.jpg']\n",
      "['sketch/crab/sketch_083_000001.jpg']\n"
     ]
    }
   ],
   "source": [
    "for f in cold_blooded:\n",
    "    print([i for i in files if f in i][:1])"
   ]
  },
  {
   "cell_type": "code",
   "execution_count": 168,
   "id": "aff2aa31-f218-4663-a46a-e0293416689a",
   "metadata": {},
   "outputs": [
    {
     "data": {
      "text/plain": [
       "3917"
      ]
     },
     "execution_count": 168,
     "metadata": {},
     "output_type": "execute_result"
    }
   ],
   "source": [
    "files_cate = []\n",
    "for f in cold_blooded:\n",
    "    files_cate += [i for i in files if f in i]\n",
    "# 重複削除\n",
    "files_cold_blooded = list(set(files_cate))\n",
    "len(list(set(files_cate)))"
   ]
  },
  {
   "cell_type": "code",
   "execution_count": 169,
   "id": "ab6b3bb3-0bb3-4f4c-aac7-7893606e978f",
   "metadata": {},
   "outputs": [],
   "source": [
    "music = [\n",
    "'saxophone',\n",
    "'drums',\n",
    "'violin',\n",
    "'guitar',\n",
    "'trombone',\n",
    "'harp',\n",
    "'piano',\n",
    "'trumpet',\n",
    "'cello',\n",
    "'clarinet']"
   ]
  },
  {
   "cell_type": "code",
   "execution_count": 170,
   "id": "7f35a8ce-2e1e-44a6-a667-f0a6fa78804d",
   "metadata": {},
   "outputs": [
    {
     "name": "stdout",
     "output_type": "stream",
     "text": [
      "['sketch/saxophone/sketch_251_000001.jpg']\n",
      "['sketch/drums/sketch_099_000001.jpg']\n",
      "['sketch/violin/sketch_333_000001.jpg']\n",
      "['sketch/guitar/sketch_135_000001.jpg']\n",
      "['sketch/trombone/sketch_325_000001.jpg']\n",
      "['sketch/harp/sketch_139_000001.jpg']\n",
      "['sketch/piano/sketch_220_000001.jpg']\n",
      "['sketch/trumpet/sketch_327_000001.jpg']\n",
      "['sketch/cello/sketch_067_000001.jpg']\n",
      "['sketch/clarinet/sketch_073_000001.jpg']\n"
     ]
    }
   ],
   "source": [
    "for f in music:\n",
    "    print([i for i in files if f in i][:1])"
   ]
  },
  {
   "cell_type": "code",
   "execution_count": 171,
   "id": "6be2fdb9-c112-41fb-82a5-04a2a8868425",
   "metadata": {},
   "outputs": [
    {
     "data": {
      "text/plain": [
       "1505"
      ]
     },
     "execution_count": 171,
     "metadata": {},
     "output_type": "execute_result"
    }
   ],
   "source": [
    "files_cate = []\n",
    "for f in music:\n",
    "    files_cate += [i for i in files if f in i]\n",
    "# 重複削除\n",
    "files_music = list(set(files_cate))\n",
    "len(list(set(files_cate)))"
   ]
  },
  {
   "cell_type": "code",
   "execution_count": 172,
   "id": "cd170b55-1f46-4521-a86b-dbc04c2ff1dd",
   "metadata": {},
   "outputs": [],
   "source": [
    "fruit = [\n",
    "'strawberry',\n",
    "'watermelon',\n",
    "'grapes',\n",
    "'pineapple',\n",
    "'blueberry',\n",
    "'pear',\n",
    "'banana',\n",
    "'blackberry',\n",
    "'apple']"
   ]
  },
  {
   "cell_type": "code",
   "execution_count": 173,
   "id": "d1007ce4-b790-4fbc-8a26-854c5fa2aa23",
   "metadata": {},
   "outputs": [
    {
     "name": "stdout",
     "output_type": "stream",
     "text": [
      "['sketch/strawberry/sketch_291_000001.jpg']\n",
      "['sketch/watermelon/sketch_335_000001.jpg']\n",
      "['sketch/grapes/sketch_133_000001.jpg']\n",
      "['sketch/pineapple/sketch_225_000001.jpg']\n",
      "['sketch/blueberry/sketch_035_000001.jpg']\n",
      "['sketch/pear/sketch_216_000001.jpg']\n",
      "['sketch/banana/sketch_014_000001.jpg']\n",
      "['sketch/blackberry/sketch_034_000001.jpg']\n",
      "['sketch/apple/sketch_009_000001.jpg']\n"
     ]
    }
   ],
   "source": [
    "for f in fruit:\n",
    "    print([i for i in files if f in i][:1])"
   ]
  },
  {
   "cell_type": "code",
   "execution_count": 174,
   "id": "03f713bf-0a59-4559-89a1-a77e3c71366e",
   "metadata": {},
   "outputs": [
    {
     "data": {
      "text/plain": [
       "1485"
      ]
     },
     "execution_count": 174,
     "metadata": {},
     "output_type": "execute_result"
    }
   ],
   "source": [
    "files_cate = []\n",
    "for f in fruit:\n",
    "    files_cate += [i for i in files if f in i]\n",
    "# 重複削除\n",
    "files_fruit = list(set(files_cate))\n",
    "len(list(set(files_cate)))"
   ]
  },
  {
   "cell_type": "code",
   "execution_count": 175,
   "id": "7c46a060-a0a5-4bb1-b83c-f243682e4a81",
   "metadata": {},
   "outputs": [],
   "source": [
    "sport = ['snorkel',\n",
    "'yoga',\n",
    "'soccer',\n",
    "'ball',\n",
    "'hockey_stick',\n",
    "'tennis_racquet',\n",
    "'flying_saucer',\n",
    "'hockey_puck',\n",
    "'basketball',\n",
    "'baseball_bat',\n",
    "'baseball',]"
   ]
  },
  {
   "cell_type": "code",
   "execution_count": 176,
   "id": "ee9b5a08-3432-44b3-93a8-54cd15251c2a",
   "metadata": {},
   "outputs": [
    {
     "name": "stdout",
     "output_type": "stream",
     "text": [
      "['sketch/snorkel/sketch_271_000001.jpg']\n",
      "['sketch/yoga/sketch_343_000001.jpg']\n",
      "['sketch/soccer_ball/sketch_274_000001.jpg']\n",
      "['sketch/baseball/sketch_017_000001.jpg']\n",
      "['sketch/hockey_stick/sketch_147_000001.jpg']\n",
      "['sketch/tennis_racquet/sketch_307_000001.jpg']\n",
      "['sketch/flying_saucer/sketch_123_000001.jpg']\n",
      "['sketch/hockey_puck/sketch_146_000001.jpg']\n",
      "['sketch/basketball/sketch_020_000001.jpg']\n",
      "['sketch/baseball_bat/sketch_018_000001.jpg']\n",
      "['sketch/baseball/sketch_017_000001.jpg']\n"
     ]
    }
   ],
   "source": [
    "for f in sport:\n",
    "    print([i for i in files if f in i][:1])"
   ]
  },
  {
   "cell_type": "code",
   "execution_count": 177,
   "id": "81df8b13-a6f1-4e3e-aef6-e4a7c12c0f2f",
   "metadata": {},
   "outputs": [
    {
     "data": {
      "text/plain": [
       "2133"
      ]
     },
     "execution_count": 177,
     "metadata": {},
     "output_type": "execute_result"
    }
   ],
   "source": [
    "files_cate = []\n",
    "for f in sport:\n",
    "    files_cate += [i for i in files if f in i]\n",
    "# 重複削除\n",
    "files_sport = list(set(files_cate))\n",
    "len(list(set(files_cate)))"
   ]
  },
  {
   "cell_type": "code",
   "execution_count": 178,
   "id": "13fd4a1d-f683-4a99-91c3-2249e71c31ac",
   "metadata": {},
   "outputs": [],
   "source": [
    "tree = ['tree',\n",
    "'flower',\n",
    "'palm_tree',\n",
    "'leaf',\n",
    "'house_plant',\n",
    "'grass',\n",
    "'cactus',\n",
    "'bush',]"
   ]
  },
  {
   "cell_type": "code",
   "execution_count": 179,
   "id": "09bd0f0a-511c-44d6-ace6-cdd75c19f65d",
   "metadata": {},
   "outputs": [
    {
     "name": "stdout",
     "output_type": "stream",
     "text": [
      "['sketch/palm_tree/sketch_208_000001.jpg']\n",
      "['sketch/flower/sketch_122_000001.jpg']\n",
      "['sketch/palm_tree/sketch_208_000001.jpg']\n",
      "['sketch/leaf/sketch_168_000001.jpg']\n",
      "['sketch/house_plant/sketch_155_000001.jpg']\n",
      "['sketch/grass/sketch_134_000001.jpg']\n",
      "['sketch/cactus/sketch_051_000001.jpg']\n",
      "['sketch/bush/sketch_049_000001.jpg']\n"
     ]
    }
   ],
   "source": [
    "for f in tree:\n",
    "    print([i for i in files if f in i][:1])"
   ]
  },
  {
   "cell_type": "code",
   "execution_count": 180,
   "id": "2aa2770f-e08c-4f49-b823-3c1ab10c25c5",
   "metadata": {},
   "outputs": [
    {
     "data": {
      "text/plain": [
       "2669"
      ]
     },
     "execution_count": 180,
     "metadata": {},
     "output_type": "execute_result"
    }
   ],
   "source": [
    "files_cate = []\n",
    "for f in tree:\n",
    "    files_cate += [i for i in files if f in i]\n",
    "# 重複削除\n",
    "files_tree = list(set(files_cate))\n",
    "len(list(set(files_cate)))"
   ]
  },
  {
   "cell_type": "code",
   "execution_count": 181,
   "id": "758cc6bf-f102-462d-a4c2-3ed5a6c8e99a",
   "metadata": {},
   "outputs": [],
   "source": [
    "bird = [\n",
    "'bird',\n",
    "'owl',\n",
    "'penguin',\n",
    "'swan',\n",
    "'parrot',\n",
    "'duck',\n",
    "'flamingo',]"
   ]
  },
  {
   "cell_type": "code",
   "execution_count": 182,
   "id": "86dd384f-5c8f-467a-88e5-faae59d573e1",
   "metadata": {},
   "outputs": [
    {
     "name": "stdout",
     "output_type": "stream",
     "text": [
      "['sketch/bird/sketch_032_000001.jpg']\n",
      "['sketch/owl/sketch_205_000001.jpg']\n",
      "['sketch/penguin/sketch_219_000001.jpg']\n",
      "['sketch/swan/sketch_297_000001.jpg']\n",
      "['sketch/parrot/sketch_213_000001.jpg']\n",
      "['sketch/duck/sketch_100_000001.jpg']\n",
      "['sketch/flamingo/sketch_118_000001.jpg']\n"
     ]
    }
   ],
   "source": [
    "for f in bird:\n",
    "    print([i for i in files if f in i][:1])"
   ]
  },
  {
   "cell_type": "code",
   "execution_count": 183,
   "id": "5d68a6ac-84ef-4b7d-aec0-9c56f88143c7",
   "metadata": {},
   "outputs": [
    {
     "data": {
      "text/plain": [
       "1607"
      ]
     },
     "execution_count": 183,
     "metadata": {},
     "output_type": "execute_result"
    }
   ],
   "source": [
    "files_cate = []\n",
    "for f in bird:\n",
    "    files_cate += [i for i in files if f in i]\n",
    "# 重複削除\n",
    "files_bird = list(set(files_cate))\n",
    "len(list(set(files_cate)))"
   ]
  },
  {
   "cell_type": "code",
   "execution_count": 185,
   "id": "943c4599-90d6-4435-bd04-f2116db950ec",
   "metadata": {},
   "outputs": [],
   "source": [
    "vegetable = ['mushroom',\n",
    "'asparagus',\n",
    "'onion',\n",
    "'broccoli',\n",
    "'carrot',\n",
    "'peas',\n",
    "'potato',\n",
    "'string_bean',]"
   ]
  },
  {
   "cell_type": "code",
   "execution_count": 186,
   "id": "f40eea60-0bb8-479f-b241-460b5dd7184b",
   "metadata": {},
   "outputs": [
    {
     "name": "stdout",
     "output_type": "stream",
     "text": [
      "['sketch/mushroom/sketch_196_000001.jpg']\n",
      "['sketch/asparagus/sketch_011_000001.jpg']\n",
      "['sketch/onion/sketch_203_000001.jpg']\n",
      "['sketch/broccoli/sketch_044_000001.jpg']\n",
      "['sketch/carrot/sketch_063_000001.jpg']\n",
      "['sketch/peas/sketch_217_000001.jpg']\n",
      "['sketch/potato/sketch_233_000001.jpg']\n",
      "['sketch/string_bean/sketch_293_000002.jpg']\n"
     ]
    }
   ],
   "source": [
    "for f in vegetable:\n",
    "    print([i for i in files if f in i][:1])"
   ]
  },
  {
   "cell_type": "code",
   "execution_count": 187,
   "id": "3c8abe22-0767-46c8-8ba6-34990aeab530",
   "metadata": {},
   "outputs": [
    {
     "data": {
      "text/plain": [
       "1044"
      ]
     },
     "execution_count": 187,
     "metadata": {},
     "output_type": "execute_result"
    }
   ],
   "source": [
    "files_cate = []\n",
    "for f in vegetable:\n",
    "    files_cate += [i for i in files if f in i]\n",
    "# 重複削除\n",
    "files_vegetable = list(set(files_cate))\n",
    "len(list(set(files_cate)))"
   ]
  },
  {
   "cell_type": "code",
   "execution_count": 189,
   "id": "9abb0e16-c057-40c7-86bc-c057586f7e5d",
   "metadata": {},
   "outputs": [],
   "source": [
    "shape = [\n",
    "'triangle',\n",
    "'zigzag',\n",
    "'squiggle',\n",
    "'hexagon',\n",
    "'circle',\n",
    "'line',\n",
    "'octagon',]"
   ]
  },
  {
   "cell_type": "code",
   "execution_count": 190,
   "id": "609e7e0d-6459-4118-95f9-5f0731c88d32",
   "metadata": {},
   "outputs": [
    {
     "name": "stdout",
     "output_type": "stream",
     "text": [
      "['sketch/triangle/sketch_324_000001.jpg']\n",
      "['sketch/zigzag/sketch_345_000001.jpg']\n",
      "['sketch/squiggle/sketch_281_000001.jpg']\n",
      "['sketch/hexagon/sketch_145_000001.jpg']\n",
      "['sketch/circle/sketch_072_000001.jpg']\n",
      "['sketch/line/sketch_174_000001.jpg']\n",
      "['sketch/octagon/sketch_201_000001.jpg']\n"
     ]
    }
   ],
   "source": [
    "for f in shape:\n",
    "    print([i for i in files if f in i][:1])"
   ]
  },
  {
   "cell_type": "code",
   "execution_count": 191,
   "id": "e3011016-d78d-448d-bf1d-bb372a04b037",
   "metadata": {},
   "outputs": [
    {
     "data": {
      "text/plain": [
       "1335"
      ]
     },
     "execution_count": 191,
     "metadata": {},
     "output_type": "execute_result"
    }
   ],
   "source": [
    "files_cate = []\n",
    "for f in shape:\n",
    "    files_cate += [i for i in files if f in i]\n",
    "# 重複削除\n",
    "files_shape = list(set(files_cate))\n",
    "len(list(set(files_cate)))"
   ]
  },
  {
   "cell_type": "code",
   "execution_count": 192,
   "id": "d6991c0a-d686-4402-ae38-60b5545af898",
   "metadata": {},
   "outputs": [],
   "source": [
    "kitchen =[\n",
    "'spoon',\n",
    "'wine_bottle',\n",
    "'frying_pan',\n",
    "'knife',\n",
    "'fork',\n",
    "'hourglass',\n",
    "'lighter',\n",
    "'matches',]"
   ]
  },
  {
   "cell_type": "code",
   "execution_count": 193,
   "id": "3c1a6328-2f4f-4a03-a632-278fc790627e",
   "metadata": {},
   "outputs": [
    {
     "name": "stdout",
     "output_type": "stream",
     "text": [
      "['sketch/spoon/sketch_278_000001.jpg']\n",
      "['sketch/wine_bottle/sketch_340_000001.jpg']\n",
      "['sketch/frying_pan/sketch_127_000001.jpg']\n",
      "['sketch/knife/sketch_164_000001.jpg']\n",
      "['sketch/fork/sketch_125_000001.jpg']\n",
      "['sketch/hourglass/sketch_153_000001.jpg']\n",
      "['sketch/lighter/sketch_171_000001.jpg']\n",
      "['sketch/matches/sketch_182_000001.jpg']\n"
     ]
    }
   ],
   "source": [
    "for f in kitchen:\n",
    "    print([i for i in files if f in i][:1])"
   ]
  },
  {
   "cell_type": "code",
   "execution_count": 195,
   "id": "123812d1-ddd5-4388-9ec1-357f68d87093",
   "metadata": {},
   "outputs": [
    {
     "data": {
      "text/plain": [
       "1393"
      ]
     },
     "execution_count": 195,
     "metadata": {},
     "output_type": "execute_result"
    }
   ],
   "source": [
    "files_cate = []\n",
    "for f in kitchen:\n",
    "    files_cate += [i for i in files if f in i]\n",
    "# 重複削除\n",
    "files_kitchen = list(set(files_cate))\n",
    "len(list(set(files_cate)))"
   ]
  },
  {
   "cell_type": "code",
   "execution_count": 199,
   "id": "84bcc12b-8bc2-4e49-9250-2c640b717dfd",
   "metadata": {},
   "outputs": [],
   "source": [
    "water_transport = [\n",
    "'submarine',\n",
    "'speedboat',\n",
    "'sailboat',\n",
    "'canoe',\n",
    "'cruise_ship',\n",
    "'aircraft_carrier',]"
   ]
  },
  {
   "cell_type": "code",
   "execution_count": 200,
   "id": "0e9f1709-e156-41c5-8799-77a0ae0599f2",
   "metadata": {},
   "outputs": [
    {
     "name": "stdout",
     "output_type": "stream",
     "text": [
      "['sketch/submarine/sketch_294_000001.jpg']\n",
      "['sketch/speedboat/sketch_276_000001.jpg']\n",
      "['sketch/sailboat/sketch_248_000002.jpg']\n",
      "['sketch/canoe/sketch_061_000001.jpg']\n",
      "['sketch/cruise_ship/sketch_087_000001.jpg']\n",
      "['sketch/aircraft_carrier/sketch_001_000001.jpg']\n"
     ]
    }
   ],
   "source": [
    "for f in water_transport:\n",
    "    print([i for i in files if f in i][:1])"
   ]
  },
  {
   "cell_type": "code",
   "execution_count": 201,
   "id": "325e5505-dc93-4394-8ec7-0997c3459f89",
   "metadata": {},
   "outputs": [
    {
     "data": {
      "text/plain": [
       "1394"
      ]
     },
     "execution_count": 201,
     "metadata": {},
     "output_type": "execute_result"
    }
   ],
   "source": [
    "files_cate = []\n",
    "for f in water_transport:\n",
    "    files_cate += [i for i in files if f in i]\n",
    "# 重複削除\n",
    "files_water_transport = list(set(files_cate))\n",
    "len(list(set(files_cate)))"
   ]
  },
  {
   "cell_type": "code",
   "execution_count": 202,
   "id": "5388485d-4c7a-4275-a7aa-39066c892aef",
   "metadata": {},
   "outputs": [],
   "source": [
    "sky_transport =[\n",
    "'helicopter',\n",
    "'air_balloon',\n",
    "'parachute',\n",
    "'airplane',]"
   ]
  },
  {
   "cell_type": "code",
   "execution_count": 203,
   "id": "8c79bfeb-a7a5-4886-a4a0-7cb352287fc6",
   "metadata": {},
   "outputs": [
    {
     "name": "stdout",
     "output_type": "stream",
     "text": [
      "['sketch/helicopter/sketch_143_000001.jpg']\n",
      "['sketch/hot_air_balloon/sketch_150_000001.jpg']\n",
      "['sketch/parachute/sketch_212_000001.jpg']\n",
      "['sketch/airplane/sketch_002_000001.jpg']\n"
     ]
    }
   ],
   "source": [
    "for f in sky_transport:\n",
    "    print([i for i in files if f in i][:1])"
   ]
  },
  {
   "cell_type": "code",
   "execution_count": 204,
   "id": "a5869790-8171-40d5-8949-59ac2b622f81",
   "metadata": {},
   "outputs": [
    {
     "data": {
      "text/plain": [
       "926"
      ]
     },
     "execution_count": 204,
     "metadata": {},
     "output_type": "execute_result"
    }
   ],
   "source": [
    "files_cate = []\n",
    "for f in sky_transport:\n",
    "    files_cate += [i for i in files if f in i]\n",
    "# 重複削除\n",
    "files_sky_transport = list(set(files_cate))\n",
    "len(list(set(files_cate)))"
   ]
  },
  {
   "cell_type": "code",
   "execution_count": 205,
   "id": "b763bf2c-9502-418b-8cf8-b316f7cdd861",
   "metadata": {},
   "outputs": [],
   "source": [
    "insect = [\n",
    "'butterfly',\n",
    "'bee',\n",
    "'mosquito',\n",
    "'ant',]"
   ]
  },
  {
   "cell_type": "code",
   "execution_count": 206,
   "id": "0d2ddcf2-eb89-4802-af30-023f96c1d4dc",
   "metadata": {},
   "outputs": [
    {
     "name": "stdout",
     "output_type": "stream",
     "text": [
      "['sketch/butterfly/sketch_050_000001.jpg']\n",
      "['sketch/bee/sketch_027_000001.jpg']\n",
      "['sketch/mosquito/sketch_189_000001.jpg']\n",
      "['sketch/ant/sketch_007_000001.jpg']\n"
     ]
    }
   ],
   "source": [
    "for f in insect:\n",
    "    print([i for i in files if f in i][:1])"
   ]
  },
  {
   "cell_type": "code",
   "execution_count": 208,
   "id": "05899947-7926-405f-96b8-36d072aacec1",
   "metadata": {},
   "outputs": [
    {
     "data": {
      "text/plain": [
       "1381"
      ]
     },
     "execution_count": 208,
     "metadata": {},
     "output_type": "execute_result"
    }
   ],
   "source": [
    "files_cate = []\n",
    "for f in insect:\n",
    "    files_cate += [i for i in files if f in i]\n",
    "# 重複削除\n",
    "files_insect = list(set(files_cate))\n",
    "len(list(set(files_cate)))"
   ]
  },
  {
   "cell_type": "code",
   "execution_count": null,
   "id": "5a027956-4b04-4e56-a861-a6777292e313",
   "metadata": {},
   "outputs": [],
   "source": []
  },
  {
   "cell_type": "code",
   "execution_count": null,
   "id": "464d5153-1813-4713-bb3a-7d5a71d04c5c",
   "metadata": {},
   "outputs": [],
   "source": []
  },
  {
   "cell_type": "code",
   "execution_count": null,
   "id": "0687269a-bf04-448c-b8c8-77a98182fb59",
   "metadata": {},
   "outputs": [],
   "source": []
  },
  {
   "cell_type": "markdown",
   "id": "31e0d432-1f57-446f-ab3c-94a7e04997a6",
   "metadata": {},
   "source": [
    "nowman\n",
    "feather\n",
    "teddy-bear animal migration traffic light dragon angel mermaid\n",
    "campfire fire hydrant The Mona Lisa\n",
    "stop sign\n",
    "canno"
   ]
  },
  {
   "cell_type": "code",
   "execution_count": null,
   "id": "6fa4238b-f648-4217-9bf4-3a6263b2936c",
   "metadata": {},
   "outputs": [],
   "source": []
  },
  {
   "cell_type": "code",
   "execution_count": null,
   "id": "db47af80-3035-4689-b4f7-f204780b1c0f",
   "metadata": {},
   "outputs": [],
   "source": []
  },
  {
   "cell_type": "code",
   "execution_count": null,
   "id": "6eb9160a-0f83-4c97-82fd-0c7701120bb3",
   "metadata": {},
   "outputs": [],
   "source": []
  },
  {
   "cell_type": "code",
   "execution_count": null,
   "id": "1fafe8ac-11a5-4c23-aaa5-02c2a89a16a3",
   "metadata": {},
   "outputs": [],
   "source": [
    "df = pd.read_table(\"splits_mini/sketch_train.txt\",sep=' ',header=None,names=['jpg','category'])"
   ]
  },
  {
   "cell_type": "code",
   "execution_count": null,
   "id": "8b3de87b-305e-4148-b852-6584eef8fe79",
   "metadata": {},
   "outputs": [],
   "source": [
    "df.shape"
   ]
  },
  {
   "cell_type": "code",
   "execution_count": null,
   "id": "6ff627a0-f246-4c76-979e-3b6e1a108450",
   "metadata": {
    "tags": []
   },
   "outputs": [],
   "source": [
    "df.head()"
   ]
  },
  {
   "cell_type": "code",
   "execution_count": null,
   "id": "2cb52cd8-cd90-4c7b-9ae7-73ca96ccb27c",
   "metadata": {},
   "outputs": [],
   "source": [
    "df[df['jpg'].isin(list_1000)].shape"
   ]
  },
  {
   "cell_type": "code",
   "execution_count": null,
   "id": "74c649f6-2aa3-4b07-853a-e13d6715ded3",
   "metadata": {},
   "outputs": [],
   "source": []
  },
  {
   "cell_type": "code",
   "execution_count": null,
   "id": "93096f92-cffa-44ec-a438-864677b9cb64",
   "metadata": {},
   "outputs": [],
   "source": [
    "# タイトルは345\n",
    "len(glob.glob('sketch/*'))"
   ]
  },
  {
   "cell_type": "code",
   "execution_count": null,
   "id": "1e41d480-0658-4903-a0f2-392eb636a1b3",
   "metadata": {
    "tags": []
   },
   "outputs": [],
   "source": [
    "ls sketch/The_Eiffel_Tower/"
   ]
  },
  {
   "cell_type": "code",
   "execution_count": null,
   "id": "b5d91631-9458-4ec0-a334-d22f0ce841cd",
   "metadata": {},
   "outputs": [],
   "source": []
  },
  {
   "cell_type": "code",
   "execution_count": null,
   "id": "cde67c2b-543b-4445-b1bb-fed4c6c7d655",
   "metadata": {
    "tags": []
   },
   "outputs": [],
   "source": [
    "df['category'].value_counts()"
   ]
  },
  {
   "cell_type": "code",
   "execution_count": null,
   "id": "f10c8485-371c-4394-afed-48b0bfc389aa",
   "metadata": {},
   "outputs": [],
   "source": [
    "df.head()"
   ]
  },
  {
   "cell_type": "code",
   "execution_count": null,
   "id": "8586e6fa-b3c9-4a14-958f-977086408391",
   "metadata": {},
   "outputs": [],
   "source": [
    "df.tail()"
   ]
  },
  {
   "cell_type": "code",
   "execution_count": null,
   "id": "595e8b43-f649-4e2a-b52e-322655e6f70c",
   "metadata": {},
   "outputs": [],
   "source": [
    "# 論文内の大カテゴリー\n",
    "# cate_list  = ['Furniture','Mammal', 'Tool', 'Cloth', 'Electricity', 'Building', 'Office', 'Human Body',\n",
    "# 'Road Transportation', 'Food', 'Nature', 'Cold Blooded' ,'Music', 'Fruit', 'Sport', 'Tree', 'Bird', \n",
    "# 'Vegetable', 'Shape', 'Kitchen','Water' 'Transportation', 'Sky Transportation', 'Insect', 'Others']\n",
    "# len(cate_list)"
   ]
  },
  {
   "cell_type": "code",
   "execution_count": null,
   "id": "20e82be7-fc5a-4bac-ab18-234fd7feb76f",
   "metadata": {},
   "outputs": [],
   "source": [
    "gdf = df.groupby('category')"
   ]
  },
  {
   "cell_type": "code",
   "execution_count": null,
   "id": "f0161ef4-a2d5-45e5-a7b8-354d308491db",
   "metadata": {
    "tags": []
   },
   "outputs": [],
   "source": [
    "gdf.size()"
   ]
  },
  {
   "cell_type": "code",
   "execution_count": null,
   "id": "055780a8-1bf2-46c8-9e8f-a1b0859c8cd6",
   "metadata": {},
   "outputs": [],
   "source": [
    "df_group_sample = gdf.apply(lambda x: x.sample(n=5,random_state=42))"
   ]
  },
  {
   "cell_type": "code",
   "execution_count": null,
   "id": "419bd4ad-2767-45d6-908d-f564ee4c3826",
   "metadata": {},
   "outputs": [],
   "source": [
    "df_group_sample"
   ]
  },
  {
   "cell_type": "code",
   "execution_count": null,
   "id": "a74d9ff9-1795-4764-bfa0-1f7979c841f9",
   "metadata": {
    "tags": []
   },
   "outputs": [],
   "source": [
    "list_path = df_group_sample['jpg'].tolist()"
   ]
  },
  {
   "cell_type": "code",
   "execution_count": null,
   "id": "b83391a7-a9a7-4def-a340-21a94d831e30",
   "metadata": {},
   "outputs": [],
   "source": [
    "list_jpg = []\n",
    "for i in list_path:\n",
    "    list_jpg.append(i.split('sketch/')[1])"
   ]
  },
  {
   "cell_type": "code",
   "execution_count": null,
   "id": "2d7ac3ec-d961-4ce9-983d-892f61150fc9",
   "metadata": {},
   "outputs": [],
   "source": [
    "list_jpg[:10]"
   ]
  },
  {
   "cell_type": "code",
   "execution_count": null,
   "id": "22294616-23ff-4b1f-9410-25eecfef6091",
   "metadata": {},
   "outputs": [],
   "source": []
  },
  {
   "cell_type": "code",
   "execution_count": null,
   "id": "014d6d03-18ac-4cfe-9e8e-70236146f22d",
   "metadata": {},
   "outputs": [],
   "source": [
    "# 縦長・横長削除"
   ]
  },
  {
   "cell_type": "code",
   "execution_count": null,
   "id": "6b7714cc-20f8-445d-b46d-fdfa1560c4b3",
   "metadata": {},
   "outputs": [],
   "source": [
    "from PIL import Image"
   ]
  },
  {
   "cell_type": "code",
   "execution_count": null,
   "id": "4524a077-8e15-4d68-98dd-e1513e0b2a95",
   "metadata": {
    "tags": []
   },
   "outputs": [],
   "source": [
    "for jpg in list_jpg:\n",
    "    im = Image.open('sketch/'+jpg)\n",
    "    print(im.size)"
   ]
  },
  {
   "cell_type": "code",
   "execution_count": null,
   "id": "ec85f567-42ab-4a28-b9f3-53b621fdfb32",
   "metadata": {},
   "outputs": [],
   "source": []
  },
  {
   "cell_type": "code",
   "execution_count": null,
   "id": "da921025-f77e-4df4-9d16-419a279a79d2",
   "metadata": {},
   "outputs": [],
   "source": []
  }
 ],
 "metadata": {
  "kernelspec": {
   "display_name": "Python 3 (ipykernel)",
   "language": "python",
   "name": "python3"
  },
  "language_info": {
   "codemirror_mode": {
    "name": "ipython",
    "version": 3
   },
   "file_extension": ".py",
   "mimetype": "text/x-python",
   "name": "python",
   "nbconvert_exporter": "python",
   "pygments_lexer": "ipython3",
   "version": "3.8.3"
  }
 },
 "nbformat": 4,
 "nbformat_minor": 5
}
