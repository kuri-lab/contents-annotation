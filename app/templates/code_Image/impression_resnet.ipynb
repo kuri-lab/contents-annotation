{
 "cells": [
  {
   "cell_type": "code",
   "execution_count": 1,
   "metadata": {},
   "outputs": [],
   "source": [
    "import pandas as pd\n",
    "pd.set_option('display.max_rows', 500)\n",
    "pd.set_option('display.max_columns', 100)\n",
    "pd.options.display.max_colwidth = 100\n",
    "import sqlite3"
   ]
  },
  {
   "cell_type": "code",
   "execution_count": 2,
   "metadata": {},
   "outputs": [],
   "source": [
    "from PIL import Image\n",
    "import numpy as np\n",
    "import matplotlib.pyplot as plt"
   ]
  },
  {
   "cell_type": "code",
   "execution_count": 3,
   "metadata": {},
   "outputs": [],
   "source": [
    "import os\n",
    "import glob"
   ]
  },
  {
   "cell_type": "code",
   "execution_count": 4,
   "metadata": {},
   "outputs": [],
   "source": [
    "from tqdm import tqdm"
   ]
  },
  {
   "cell_type": "code",
   "execution_count": 5,
   "metadata": {},
   "outputs": [],
   "source": [
    "con = sqlite3.connect(\"impression_1022.db\")\n",
    "cursor = con.cursor()\n",
    "\n",
    "cursor.execute(\"SELECT * FROM impressioncontents\")\n",
    "results = cursor.fetchall()\n",
    "\n",
    "df = pd.read_sql_query(\"SELECT * FROM impressioncontents\", con)"
   ]
  },
  {
   "cell_type": "code",
   "execution_count": 6,
   "metadata": {},
   "outputs": [
    {
     "data": {
      "text/html": [
       "<div>\n",
       "<style scoped>\n",
       "    .dataframe tbody tr th:only-of-type {\n",
       "        vertical-align: middle;\n",
       "    }\n",
       "\n",
       "    .dataframe tbody tr th {\n",
       "        vertical-align: top;\n",
       "    }\n",
       "\n",
       "    .dataframe thead th {\n",
       "        text-align: right;\n",
       "    }\n",
       "</style>\n",
       "<table border=\"1\" class=\"dataframe\">\n",
       "  <thead>\n",
       "    <tr style=\"text-align: right;\">\n",
       "      <th></th>\n",
       "      <th>id</th>\n",
       "      <th>name</th>\n",
       "      <th>reference1</th>\n",
       "      <th>reference2</th>\n",
       "      <th>target</th>\n",
       "      <th>impression</th>\n",
       "      <th>date</th>\n",
       "      <th>count</th>\n",
       "      <th>num_touches</th>\n",
       "    </tr>\n",
       "  </thead>\n",
       "  <tbody>\n",
       "    <tr>\n",
       "      <td>0</td>\n",
       "      <td>1</td>\n",
       "      <td>hoge</td>\n",
       "      <td>/templates/color/YELLOW.png</td>\n",
       "      <td>/templates/color/RED.png</td>\n",
       "      <td>/templates/Image/targets/sketch_027_000039.png</td>\n",
       "      <td>-17.0</td>\n",
       "      <td>2021-10-10 19:39:06.155428</td>\n",
       "      <td>1</td>\n",
       "      <td>1</td>\n",
       "    </tr>\n",
       "  </tbody>\n",
       "</table>\n",
       "</div>"
      ],
      "text/plain": [
       "   id  name                   reference1                reference2  \\\n",
       "0   1  hoge  /templates/color/YELLOW.png  /templates/color/RED.png   \n",
       "\n",
       "                                           target  impression  \\\n",
       "0  /templates/Image/targets/sketch_027_000039.png       -17.0   \n",
       "\n",
       "                         date  count  num_touches  \n",
       "0  2021-10-10 19:39:06.155428      1            1  "
      ]
     },
     "execution_count": 6,
     "metadata": {},
     "output_type": "execute_result"
    }
   ],
   "source": [
    "df.head(1)"
   ]
  },
  {
   "cell_type": "code",
   "execution_count": 7,
   "metadata": {},
   "outputs": [
    {
     "data": {
      "text/html": [
       "<div>\n",
       "<style scoped>\n",
       "    .dataframe tbody tr th:only-of-type {\n",
       "        vertical-align: middle;\n",
       "    }\n",
       "\n",
       "    .dataframe tbody tr th {\n",
       "        vertical-align: top;\n",
       "    }\n",
       "\n",
       "    .dataframe thead th {\n",
       "        text-align: right;\n",
       "    }\n",
       "</style>\n",
       "<table border=\"1\" class=\"dataframe\">\n",
       "  <thead>\n",
       "    <tr style=\"text-align: right;\">\n",
       "      <th></th>\n",
       "      <th>id</th>\n",
       "      <th>name</th>\n",
       "      <th>reference1</th>\n",
       "      <th>reference2</th>\n",
       "      <th>target</th>\n",
       "      <th>impression</th>\n",
       "      <th>date</th>\n",
       "      <th>count</th>\n",
       "      <th>num_touches</th>\n",
       "    </tr>\n",
       "  </thead>\n",
       "  <tbody>\n",
       "    <tr>\n",
       "      <td>17407</td>\n",
       "      <td>17418</td>\n",
       "      <td>shuji.fukawa@keio.jp</td>\n",
       "      <td>/templates/color/BLUE.png</td>\n",
       "      <td>/templates/color/BLUE_GREEN.png</td>\n",
       "      <td>/templates/Image/targets/sketch_342_000112.png</td>\n",
       "      <td>50.0</td>\n",
       "      <td>2021-10-22 00:20:18.670564</td>\n",
       "      <td>501</td>\n",
       "      <td>1</td>\n",
       "    </tr>\n",
       "  </tbody>\n",
       "</table>\n",
       "</div>"
      ],
      "text/plain": [
       "          id                  name                 reference1  \\\n",
       "17407  17418  shuji.fukawa@keio.jp  /templates/color/BLUE.png   \n",
       "\n",
       "                            reference2  \\\n",
       "17407  /templates/color/BLUE_GREEN.png   \n",
       "\n",
       "                                               target  impression  \\\n",
       "17407  /templates/Image/targets/sketch_342_000112.png        50.0   \n",
       "\n",
       "                             date  count  num_touches  \n",
       "17407  2021-10-22 00:20:18.670564    501            1  "
      ]
     },
     "execution_count": 7,
     "metadata": {},
     "output_type": "execute_result"
    }
   ],
   "source": [
    "df.tail(1)"
   ]
  },
  {
   "cell_type": "code",
   "execution_count": 8,
   "metadata": {},
   "outputs": [
    {
     "data": {
      "text/plain": [
       "14236koyama@keio.jp      1008\n",
       "aeol.yy@keio.jp           770\n",
       "hoge2                     745\n",
       "shuji.fukawa@keio.jp      668\n",
       "ryoyayakuruto@keio.jp     636\n",
       "Name: name, dtype: int64"
      ]
     },
     "execution_count": 8,
     "metadata": {},
     "output_type": "execute_result"
    }
   ],
   "source": [
    "df['name'].value_counts().head()"
   ]
  },
  {
   "cell_type": "code",
   "execution_count": 9,
   "metadata": {},
   "outputs": [],
   "source": [
    "# df = df.query('num_touches != 0\n",
    "# 触った回数が0 => 画像がうまく読み込めていない、or 見失った。　ので削除する。\n",
    "df_0 = df\n",
    "df = df[df['num_touches'] !=0]"
   ]
  },
  {
   "cell_type": "code",
   "execution_count": 10,
   "metadata": {},
   "outputs": [],
   "source": [
    "df = df[(df['name']!='hoge2') & (df['name']!='hoge3') & (df['name']!='hoge') & (df['name']!='komei') & (df['name']!='saito')]"
   ]
  },
  {
   "cell_type": "code",
   "execution_count": 11,
   "metadata": {},
   "outputs": [
    {
     "data": {
      "text/html": [
       "<div>\n",
       "<style scoped>\n",
       "    .dataframe tbody tr th:only-of-type {\n",
       "        vertical-align: middle;\n",
       "    }\n",
       "\n",
       "    .dataframe tbody tr th {\n",
       "        vertical-align: top;\n",
       "    }\n",
       "\n",
       "    .dataframe thead th {\n",
       "        text-align: right;\n",
       "    }\n",
       "</style>\n",
       "<table border=\"1\" class=\"dataframe\">\n",
       "  <thead>\n",
       "    <tr style=\"text-align: right;\">\n",
       "      <th></th>\n",
       "      <th>id</th>\n",
       "      <th>name</th>\n",
       "      <th>reference1</th>\n",
       "      <th>reference2</th>\n",
       "      <th>target</th>\n",
       "      <th>impression</th>\n",
       "      <th>date</th>\n",
       "      <th>count</th>\n",
       "      <th>num_touches</th>\n",
       "    </tr>\n",
       "  </thead>\n",
       "  <tbody>\n",
       "    <tr>\n",
       "      <td>0</td>\n",
       "      <td>1065</td>\n",
       "      <td>naoto_yoshida@keio.jp</td>\n",
       "      <td>/templates/color/BLUE_GREEN.png</td>\n",
       "      <td>/templates/color/YELLOW.png</td>\n",
       "      <td>/templates/Image/targets/sketch_007_000051.png</td>\n",
       "      <td>44.0</td>\n",
       "      <td>2021-10-13 17:04:59.234729</td>\n",
       "      <td>1</td>\n",
       "      <td>1</td>\n",
       "    </tr>\n",
       "    <tr>\n",
       "      <td>1</td>\n",
       "      <td>1066</td>\n",
       "      <td>naoto_yoshida@keio.jp</td>\n",
       "      <td>/templates/color/BLUE_GREEN.png</td>\n",
       "      <td>/templates/color/YELLOW.png</td>\n",
       "      <td>/templates/Image/targets/i620ye-fn.png</td>\n",
       "      <td>-40.0</td>\n",
       "      <td>2021-10-13 17:05:05.007810</td>\n",
       "      <td>2</td>\n",
       "      <td>1</td>\n",
       "    </tr>\n",
       "    <tr>\n",
       "      <td>2</td>\n",
       "      <td>1067</td>\n",
       "      <td>naoto_yoshida@keio.jp</td>\n",
       "      <td>/templates/color/BLUE_GREEN.png</td>\n",
       "      <td>/templates/color/RED.png</td>\n",
       "      <td>/templates/Image/targets/i086sd-fn.png</td>\n",
       "      <td>-38.0</td>\n",
       "      <td>2021-10-13 17:05:10.037438</td>\n",
       "      <td>3</td>\n",
       "      <td>1</td>\n",
       "    </tr>\n",
       "    <tr>\n",
       "      <td>3</td>\n",
       "      <td>1068</td>\n",
       "      <td>naoto_yoshida@keio.jp</td>\n",
       "      <td>/templates/color/RED.png</td>\n",
       "      <td>/templates/color/BLUE_GREEN.png</td>\n",
       "      <td>/templates/Image/targets/sketch_327_000113.png</td>\n",
       "      <td>-32.0</td>\n",
       "      <td>2021-10-13 17:05:15.174908</td>\n",
       "      <td>4</td>\n",
       "      <td>1</td>\n",
       "    </tr>\n",
       "    <tr>\n",
       "      <td>4</td>\n",
       "      <td>1070</td>\n",
       "      <td>naoto_yoshida@keio.jp</td>\n",
       "      <td>/templates/color/BLUE_GREEN.png</td>\n",
       "      <td>/templates/color/YELLOW.png</td>\n",
       "      <td>/templates/Image/targets/sketch_001_000023.png</td>\n",
       "      <td>-39.0</td>\n",
       "      <td>2021-10-13 17:05:24.343812</td>\n",
       "      <td>5</td>\n",
       "      <td>1</td>\n",
       "    </tr>\n",
       "  </tbody>\n",
       "</table>\n",
       "</div>"
      ],
      "text/plain": [
       "     id                   name                       reference1  \\\n",
       "0  1065  naoto_yoshida@keio.jp  /templates/color/BLUE_GREEN.png   \n",
       "1  1066  naoto_yoshida@keio.jp  /templates/color/BLUE_GREEN.png   \n",
       "2  1067  naoto_yoshida@keio.jp  /templates/color/BLUE_GREEN.png   \n",
       "3  1068  naoto_yoshida@keio.jp         /templates/color/RED.png   \n",
       "4  1070  naoto_yoshida@keio.jp  /templates/color/BLUE_GREEN.png   \n",
       "\n",
       "                        reference2  \\\n",
       "0      /templates/color/YELLOW.png   \n",
       "1      /templates/color/YELLOW.png   \n",
       "2         /templates/color/RED.png   \n",
       "3  /templates/color/BLUE_GREEN.png   \n",
       "4      /templates/color/YELLOW.png   \n",
       "\n",
       "                                           target  impression  \\\n",
       "0  /templates/Image/targets/sketch_007_000051.png        44.0   \n",
       "1          /templates/Image/targets/i620ye-fn.png       -40.0   \n",
       "2          /templates/Image/targets/i086sd-fn.png       -38.0   \n",
       "3  /templates/Image/targets/sketch_327_000113.png       -32.0   \n",
       "4  /templates/Image/targets/sketch_001_000023.png       -39.0   \n",
       "\n",
       "                         date  count  num_touches  \n",
       "0  2021-10-13 17:04:59.234729      1            1  \n",
       "1  2021-10-13 17:05:05.007810      2            1  \n",
       "2  2021-10-13 17:05:10.037438      3            1  \n",
       "3  2021-10-13 17:05:15.174908      4            1  \n",
       "4  2021-10-13 17:05:24.343812      5            1  "
      ]
     },
     "execution_count": 11,
     "metadata": {},
     "output_type": "execute_result"
    }
   ],
   "source": [
    "df.reset_index(drop=True).head()"
   ]
  },
  {
   "cell_type": "code",
   "execution_count": 12,
   "metadata": {},
   "outputs": [
    {
     "data": {
      "text/plain": [
       "13980"
      ]
     },
     "execution_count": 12,
     "metadata": {},
     "output_type": "execute_result"
    }
   ],
   "source": [
    "# アノテーションされている回数は？\n",
    "len(df)"
   ]
  },
  {
   "cell_type": "code",
   "execution_count": 13,
   "metadata": {},
   "outputs": [
    {
     "data": {
      "text/plain": [
       "32"
      ]
     },
     "execution_count": 13,
     "metadata": {},
     "output_type": "execute_result"
    }
   ],
   "source": [
    "# 何名のユーザーが実験をしているか？\n",
    "df['name'].nunique()"
   ]
  },
  {
   "cell_type": "code",
   "execution_count": null,
   "metadata": {},
   "outputs": [],
   "source": []
  },
  {
   "cell_type": "markdown",
   "metadata": {},
   "source": [
    "# impressionの値を見て寒色か暖色を分けるcolumnsを作る"
   ]
  },
  {
   "cell_type": "code",
   "execution_count": 14,
   "metadata": {},
   "outputs": [],
   "source": [
    "df['cool_warm'] = 0"
   ]
  },
  {
   "cell_type": "code",
   "execution_count": 15,
   "metadata": {},
   "outputs": [],
   "source": [
    "df['cool_warm'] = df['cool_warm'].mask((df['impression']<0)&(df['reference1'].str.contains('YELLOW|RED')), 1)\n",
    "df['cool_warm'] = df['cool_warm'].mask((df['impression']>0)&(df['reference2'].str.contains('YELLOW|RED')), 1)"
   ]
  },
  {
   "cell_type": "code",
   "execution_count": 16,
   "metadata": {},
   "outputs": [
    {
     "data": {
      "text/plain": [
       "0    7157\n",
       "1    6823\n",
       "Name: cool_warm, dtype: int64"
      ]
     },
     "execution_count": 16,
     "metadata": {},
     "output_type": "execute_result"
    }
   ],
   "source": [
    "# 若干、寒色の方が多い？？\n",
    "df['cool_warm'].value_counts()"
   ]
  },
  {
   "cell_type": "code",
   "execution_count": null,
   "metadata": {},
   "outputs": [],
   "source": []
  },
  {
   "cell_type": "markdown",
   "metadata": {},
   "source": [
    "# カテゴリーのごとのリストを作る"
   ]
  },
  {
   "cell_type": "code",
   "execution_count": 17,
   "metadata": {},
   "outputs": [],
   "source": [
    "domain_list = df[df['target'].str.contains('sketch')]['target'].values.tolist()\n",
    "muct_list = df[df['target'].str.contains('-')]['target'].values.tolist()\n",
    "tezuka_list = df[(~df['target'].isin(domain_list))&(~df['target'].isin(muct_list))]['target'].values.tolist()"
   ]
  },
  {
   "cell_type": "code",
   "execution_count": 18,
   "metadata": {},
   "outputs": [
    {
     "data": {
      "text/plain": [
       "(13980, 5550, 5558, 2872)"
      ]
     },
     "execution_count": 18,
     "metadata": {},
     "output_type": "execute_result"
    }
   ],
   "source": [
    "# 数の確認\n",
    "len(df) , len(domain_list) ,len(muct_list) ,len(tezuka_list) "
   ]
  },
  {
   "cell_type": "code",
   "execution_count": null,
   "metadata": {},
   "outputs": [],
   "source": []
  },
  {
   "cell_type": "markdown",
   "metadata": {},
   "source": [
    "# 個人ごとに標準化する。"
   ]
  },
  {
   "cell_type": "code",
   "execution_count": 19,
   "metadata": {},
   "outputs": [],
   "source": [
    "def scale(x):\n",
    "    res = (x - np.mean(x)) / np.std(x, ddof=1)\n",
    "    return res"
   ]
  },
  {
   "cell_type": "code",
   "execution_count": 20,
   "metadata": {},
   "outputs": [],
   "source": [
    "df['impression_scale'] = df.groupby('name')['impression'].transform(scale)"
   ]
  },
  {
   "cell_type": "code",
   "execution_count": 21,
   "metadata": {},
   "outputs": [],
   "source": [
    "df['impression_scale_abs'] = df['impression_scale'].abs()"
   ]
  },
  {
   "cell_type": "code",
   "execution_count": 22,
   "metadata": {},
   "outputs": [
    {
     "data": {
      "text/html": [
       "<div>\n",
       "<style scoped>\n",
       "    .dataframe tbody tr th:only-of-type {\n",
       "        vertical-align: middle;\n",
       "    }\n",
       "\n",
       "    .dataframe tbody tr th {\n",
       "        vertical-align: top;\n",
       "    }\n",
       "\n",
       "    .dataframe thead th {\n",
       "        text-align: right;\n",
       "    }\n",
       "</style>\n",
       "<table border=\"1\" class=\"dataframe\">\n",
       "  <thead>\n",
       "    <tr style=\"text-align: right;\">\n",
       "      <th></th>\n",
       "      <th>id</th>\n",
       "      <th>name</th>\n",
       "      <th>reference1</th>\n",
       "      <th>reference2</th>\n",
       "      <th>target</th>\n",
       "      <th>impression</th>\n",
       "      <th>date</th>\n",
       "      <th>count</th>\n",
       "      <th>num_touches</th>\n",
       "      <th>cool_warm</th>\n",
       "      <th>impression_scale</th>\n",
       "      <th>impression_scale_abs</th>\n",
       "    </tr>\n",
       "  </thead>\n",
       "  <tbody>\n",
       "    <tr>\n",
       "      <td>1064</td>\n",
       "      <td>1065</td>\n",
       "      <td>naoto_yoshida@keio.jp</td>\n",
       "      <td>/templates/color/BLUE_GREEN.png</td>\n",
       "      <td>/templates/color/YELLOW.png</td>\n",
       "      <td>/templates/Image/targets/sketch_007_000051.png</td>\n",
       "      <td>44.0</td>\n",
       "      <td>2021-10-13 17:04:59.234729</td>\n",
       "      <td>1</td>\n",
       "      <td>1</td>\n",
       "      <td>1</td>\n",
       "      <td>2.190201</td>\n",
       "      <td>2.190201</td>\n",
       "    </tr>\n",
       "    <tr>\n",
       "      <td>1065</td>\n",
       "      <td>1066</td>\n",
       "      <td>naoto_yoshida@keio.jp</td>\n",
       "      <td>/templates/color/BLUE_GREEN.png</td>\n",
       "      <td>/templates/color/YELLOW.png</td>\n",
       "      <td>/templates/Image/targets/i620ye-fn.png</td>\n",
       "      <td>-40.0</td>\n",
       "      <td>2021-10-13 17:05:05.007810</td>\n",
       "      <td>2</td>\n",
       "      <td>1</td>\n",
       "      <td>0</td>\n",
       "      <td>-2.021663</td>\n",
       "      <td>2.021663</td>\n",
       "    </tr>\n",
       "    <tr>\n",
       "      <td>1066</td>\n",
       "      <td>1067</td>\n",
       "      <td>naoto_yoshida@keio.jp</td>\n",
       "      <td>/templates/color/BLUE_GREEN.png</td>\n",
       "      <td>/templates/color/RED.png</td>\n",
       "      <td>/templates/Image/targets/i086sd-fn.png</td>\n",
       "      <td>-38.0</td>\n",
       "      <td>2021-10-13 17:05:10.037438</td>\n",
       "      <td>3</td>\n",
       "      <td>1</td>\n",
       "      <td>0</td>\n",
       "      <td>-1.921380</td>\n",
       "      <td>1.921380</td>\n",
       "    </tr>\n",
       "    <tr>\n",
       "      <td>1067</td>\n",
       "      <td>1068</td>\n",
       "      <td>naoto_yoshida@keio.jp</td>\n",
       "      <td>/templates/color/RED.png</td>\n",
       "      <td>/templates/color/BLUE_GREEN.png</td>\n",
       "      <td>/templates/Image/targets/sketch_327_000113.png</td>\n",
       "      <td>-32.0</td>\n",
       "      <td>2021-10-13 17:05:15.174908</td>\n",
       "      <td>4</td>\n",
       "      <td>1</td>\n",
       "      <td>1</td>\n",
       "      <td>-1.620533</td>\n",
       "      <td>1.620533</td>\n",
       "    </tr>\n",
       "    <tr>\n",
       "      <td>1069</td>\n",
       "      <td>1070</td>\n",
       "      <td>naoto_yoshida@keio.jp</td>\n",
       "      <td>/templates/color/BLUE_GREEN.png</td>\n",
       "      <td>/templates/color/YELLOW.png</td>\n",
       "      <td>/templates/Image/targets/sketch_001_000023.png</td>\n",
       "      <td>-39.0</td>\n",
       "      <td>2021-10-13 17:05:24.343812</td>\n",
       "      <td>5</td>\n",
       "      <td>1</td>\n",
       "      <td>0</td>\n",
       "      <td>-1.971521</td>\n",
       "      <td>1.971521</td>\n",
       "    </tr>\n",
       "    <tr>\n",
       "      <td>...</td>\n",
       "      <td>...</td>\n",
       "      <td>...</td>\n",
       "      <td>...</td>\n",
       "      <td>...</td>\n",
       "      <td>...</td>\n",
       "      <td>...</td>\n",
       "      <td>...</td>\n",
       "      <td>...</td>\n",
       "      <td>...</td>\n",
       "      <td>...</td>\n",
       "      <td>...</td>\n",
       "      <td>...</td>\n",
       "    </tr>\n",
       "    <tr>\n",
       "      <td>17401</td>\n",
       "      <td>17412</td>\n",
       "      <td>shuji.fukawa@keio.jp</td>\n",
       "      <td>/templates/color/YELLOW.png</td>\n",
       "      <td>/templates/color/RED.png</td>\n",
       "      <td>/templates/Image/targets/i620yb-fn.png</td>\n",
       "      <td>-39.0</td>\n",
       "      <td>2021-10-22 00:19:53.218762</td>\n",
       "      <td>497</td>\n",
       "      <td>1</td>\n",
       "      <td>1</td>\n",
       "      <td>-0.990478</td>\n",
       "      <td>0.990478</td>\n",
       "    </tr>\n",
       "    <tr>\n",
       "      <td>17402</td>\n",
       "      <td>17413</td>\n",
       "      <td>shuji.fukawa@keio.jp</td>\n",
       "      <td>/templates/color/BLUE.png</td>\n",
       "      <td>/templates/color/RED.png</td>\n",
       "      <td>/templates/Image/targets/sketch_262_000547.png</td>\n",
       "      <td>50.0</td>\n",
       "      <td>2021-10-22 00:19:57.410254</td>\n",
       "      <td>498</td>\n",
       "      <td>1</td>\n",
       "      <td>1</td>\n",
       "      <td>1.096490</td>\n",
       "      <td>1.096490</td>\n",
       "    </tr>\n",
       "    <tr>\n",
       "      <td>17403</td>\n",
       "      <td>17414</td>\n",
       "      <td>shuji.fukawa@keio.jp</td>\n",
       "      <td>/templates/color/RED.png</td>\n",
       "      <td>/templates/color/BLUE_GREEN.png</td>\n",
       "      <td>/templates/Image/targets/sketch_129_000059.png</td>\n",
       "      <td>-45.0</td>\n",
       "      <td>2021-10-22 00:20:01.474647</td>\n",
       "      <td>499</td>\n",
       "      <td>1</td>\n",
       "      <td>1</td>\n",
       "      <td>-1.131173</td>\n",
       "      <td>1.131173</td>\n",
       "    </tr>\n",
       "    <tr>\n",
       "      <td>17404</td>\n",
       "      <td>17415</td>\n",
       "      <td>shuji.fukawa@keio.jp</td>\n",
       "      <td>/templates/color/BLUE_GREEN.png</td>\n",
       "      <td>/templates/color/YELLOW.png</td>\n",
       "      <td>/templates/Image/targets/i223vc-mn.png</td>\n",
       "      <td>50.0</td>\n",
       "      <td>2021-10-22 00:20:05.578262</td>\n",
       "      <td>500</td>\n",
       "      <td>1</td>\n",
       "      <td>1</td>\n",
       "      <td>1.096490</td>\n",
       "      <td>1.096490</td>\n",
       "    </tr>\n",
       "    <tr>\n",
       "      <td>17407</td>\n",
       "      <td>17418</td>\n",
       "      <td>shuji.fukawa@keio.jp</td>\n",
       "      <td>/templates/color/BLUE.png</td>\n",
       "      <td>/templates/color/BLUE_GREEN.png</td>\n",
       "      <td>/templates/Image/targets/sketch_342_000112.png</td>\n",
       "      <td>50.0</td>\n",
       "      <td>2021-10-22 00:20:18.670564</td>\n",
       "      <td>501</td>\n",
       "      <td>1</td>\n",
       "      <td>0</td>\n",
       "      <td>1.096490</td>\n",
       "      <td>1.096490</td>\n",
       "    </tr>\n",
       "  </tbody>\n",
       "</table>\n",
       "<p>13980 rows × 12 columns</p>\n",
       "</div>"
      ],
      "text/plain": [
       "          id                   name                       reference1  \\\n",
       "1064    1065  naoto_yoshida@keio.jp  /templates/color/BLUE_GREEN.png   \n",
       "1065    1066  naoto_yoshida@keio.jp  /templates/color/BLUE_GREEN.png   \n",
       "1066    1067  naoto_yoshida@keio.jp  /templates/color/BLUE_GREEN.png   \n",
       "1067    1068  naoto_yoshida@keio.jp         /templates/color/RED.png   \n",
       "1069    1070  naoto_yoshida@keio.jp  /templates/color/BLUE_GREEN.png   \n",
       "...      ...                    ...                              ...   \n",
       "17401  17412   shuji.fukawa@keio.jp      /templates/color/YELLOW.png   \n",
       "17402  17413   shuji.fukawa@keio.jp        /templates/color/BLUE.png   \n",
       "17403  17414   shuji.fukawa@keio.jp         /templates/color/RED.png   \n",
       "17404  17415   shuji.fukawa@keio.jp  /templates/color/BLUE_GREEN.png   \n",
       "17407  17418   shuji.fukawa@keio.jp        /templates/color/BLUE.png   \n",
       "\n",
       "                            reference2  \\\n",
       "1064       /templates/color/YELLOW.png   \n",
       "1065       /templates/color/YELLOW.png   \n",
       "1066          /templates/color/RED.png   \n",
       "1067   /templates/color/BLUE_GREEN.png   \n",
       "1069       /templates/color/YELLOW.png   \n",
       "...                                ...   \n",
       "17401         /templates/color/RED.png   \n",
       "17402         /templates/color/RED.png   \n",
       "17403  /templates/color/BLUE_GREEN.png   \n",
       "17404      /templates/color/YELLOW.png   \n",
       "17407  /templates/color/BLUE_GREEN.png   \n",
       "\n",
       "                                               target  impression  \\\n",
       "1064   /templates/Image/targets/sketch_007_000051.png        44.0   \n",
       "1065           /templates/Image/targets/i620ye-fn.png       -40.0   \n",
       "1066           /templates/Image/targets/i086sd-fn.png       -38.0   \n",
       "1067   /templates/Image/targets/sketch_327_000113.png       -32.0   \n",
       "1069   /templates/Image/targets/sketch_001_000023.png       -39.0   \n",
       "...                                               ...         ...   \n",
       "17401          /templates/Image/targets/i620yb-fn.png       -39.0   \n",
       "17402  /templates/Image/targets/sketch_262_000547.png        50.0   \n",
       "17403  /templates/Image/targets/sketch_129_000059.png       -45.0   \n",
       "17404          /templates/Image/targets/i223vc-mn.png        50.0   \n",
       "17407  /templates/Image/targets/sketch_342_000112.png        50.0   \n",
       "\n",
       "                             date  count  num_touches  cool_warm  \\\n",
       "1064   2021-10-13 17:04:59.234729      1            1          1   \n",
       "1065   2021-10-13 17:05:05.007810      2            1          0   \n",
       "1066   2021-10-13 17:05:10.037438      3            1          0   \n",
       "1067   2021-10-13 17:05:15.174908      4            1          1   \n",
       "1069   2021-10-13 17:05:24.343812      5            1          0   \n",
       "...                           ...    ...          ...        ...   \n",
       "17401  2021-10-22 00:19:53.218762    497            1          1   \n",
       "17402  2021-10-22 00:19:57.410254    498            1          1   \n",
       "17403  2021-10-22 00:20:01.474647    499            1          1   \n",
       "17404  2021-10-22 00:20:05.578262    500            1          1   \n",
       "17407  2021-10-22 00:20:18.670564    501            1          0   \n",
       "\n",
       "       impression_scale  impression_scale_abs  \n",
       "1064           2.190201              2.190201  \n",
       "1065          -2.021663              2.021663  \n",
       "1066          -1.921380              1.921380  \n",
       "1067          -1.620533              1.620533  \n",
       "1069          -1.971521              1.971521  \n",
       "...                 ...                   ...  \n",
       "17401         -0.990478              0.990478  \n",
       "17402          1.096490              1.096490  \n",
       "17403         -1.131173              1.131173  \n",
       "17404          1.096490              1.096490  \n",
       "17407          1.096490              1.096490  \n",
       "\n",
       "[13980 rows x 12 columns]"
      ]
     },
     "execution_count": 22,
     "metadata": {},
     "output_type": "execute_result"
    }
   ],
   "source": [
    "df"
   ]
  },
  {
   "cell_type": "code",
   "execution_count": null,
   "metadata": {},
   "outputs": [],
   "source": []
  },
  {
   "cell_type": "markdown",
   "metadata": {},
   "source": [
    "9500枚のうちどれほどの画像がアノテーションされているか？"
   ]
  },
  {
   "cell_type": "code",
   "execution_count": 23,
   "metadata": {},
   "outputs": [
    {
     "data": {
      "text/plain": [
       "(7319, 9469)"
      ]
     },
     "execution_count": 23,
     "metadata": {},
     "output_type": "execute_result"
    }
   ],
   "source": [
    "df['target'].nunique() , len(glob.glob('targets/*.png'))"
   ]
  },
  {
   "cell_type": "code",
   "execution_count": null,
   "metadata": {},
   "outputs": [],
   "source": []
  },
  {
   "cell_type": "markdown",
   "metadata": {},
   "source": [
    "# targetごとに色を当てはめる。\n",
    "red = 0 , yellow = 1 , blue= 2 , BLUE_GREEN = 3"
   ]
  },
  {
   "cell_type": "markdown",
   "metadata": {},
   "source": [
    "アノテーション回数とに当てはめ方が変わる。\n",
    "- １回ならその色にすればよい。\n",
    "- ２回で両方意見が一致しているのであればその色にすれば良いが、意見が割れている時には個人ごとの正規化が高い方にすれば良い。\n",
    "- ３回以上であれば、同様に、２回以上と同様のやり方。"
   ]
  },
  {
   "cell_type": "markdown",
   "metadata": {},
   "source": [
    "それぞれのアノテーション結果に対して、色を割り当てる"
   ]
  },
  {
   "cell_type": "code",
   "execution_count": 24,
   "metadata": {},
   "outputs": [],
   "source": [
    "df['color'] = 0"
   ]
  },
  {
   "cell_type": "code",
   "execution_count": 25,
   "metadata": {},
   "outputs": [],
   "source": [
    "# df['color'].mask((df['impression']<0)&(df['reference1'].str.contains('RED')), 0)\n",
    "df['color'] = df['color'].mask((df['impression']<0)&(df['reference1']=='/templates/color/YELLOW.png'), 1)\n",
    "df['color'] = df['color'].mask((df['impression']<0)&(df['reference1']=='/templates/color/BLUE.png'), 2)\n",
    "df['color'] = df['color'].mask((df['impression']<0)&(df['reference1']=='/templates/color/BLUE_GREEN.png'), 3)\n",
    "\n",
    "df['color'] = df['color'].mask((df['impression']>0)&(df['reference2']=='/templates/color/YELLOW.png'), 1)\n",
    "df['color'] = df['color'].mask((df['impression']>0)&(df['reference2']=='/templates/color/BLUE.png'), 2)\n",
    "df['color'] = df['color'].mask((df['impression']>0)&(df['reference2']=='/templates/color/BLUE_GREEN.png'), 3)"
   ]
  },
  {
   "cell_type": "code",
   "execution_count": 26,
   "metadata": {},
   "outputs": [
    {
     "data": {
      "text/plain": [
       "1    4043\n",
       "3    3808\n",
       "2    3341\n",
       "0    2788\n",
       "Name: color, dtype: int64"
      ]
     },
     "execution_count": 26,
     "metadata": {},
     "output_type": "execute_result"
    }
   ],
   "source": [
    "df['color'].value_counts()"
   ]
  },
  {
   "cell_type": "code",
   "execution_count": 27,
   "metadata": {},
   "outputs": [],
   "source": [
    "df_target = df.groupby('target')['color'].agg(['count']).reset_index()"
   ]
  },
  {
   "cell_type": "code",
   "execution_count": 29,
   "metadata": {},
   "outputs": [],
   "source": [
    "# 以下のようにcountのリストを作る or df['target'].value_counts().reset_index() の2通りやり方はある。\n",
    "count_list_1 = df_target[df_target['count'] == 1]['target'].values.tolist()\n",
    "count_list_2 = df_target[df_target['count'] == 2]['target'].values.tolist()\n",
    "count_list_3 = df_target[df_target['count'] == 3]['target'].values.tolist()\n",
    "count_list_4 = df_target[df_target['count'] == 4]['target'].values.tolist()\n",
    "count_list_5 = df_target[df_target['count'] >= 5]['target'].values.tolist()"
   ]
  },
  {
   "cell_type": "code",
   "execution_count": null,
   "metadata": {},
   "outputs": [],
   "source": []
  },
  {
   "cell_type": "code",
   "execution_count": 31,
   "metadata": {},
   "outputs": [
    {
     "name": "stderr",
     "output_type": "stream",
     "text": [
      "100%|██████████| 3273/3273 [00:08<00:00, 406.53it/s]\n",
      "100%|██████████| 2270/2270 [00:13<00:00, 171.08it/s]\n",
      "100%|██████████| 1166/1166 [00:07<00:00, 147.72it/s]\n",
      "100%|██████████| 433/433 [00:03<00:00, 120.00it/s]\n",
      "100%|██████████| 177/177 [00:00<00:00, 235.04it/s]\n"
     ]
    }
   ],
   "source": [
    "d = pd.DataFrame()\n",
    "# 画像に対してアノテーションされた色の数で場合分けをする\n",
    "\n",
    "for i in tqdm(count_list_1):\n",
    "    d = d.append(df[df['target']==i][['target','color']])\n",
    "\n",
    "# ２回の場合、絶対値の最大値を撮ればよい。(たまに最大値が同じものがあるので重複してしまう。それはいい印象を与えれていないので削除する。)\n",
    "for i in tqdm(count_list_2):\n",
    "    d = d.append(df[df['target']==i][df[df['target']==i]['impression_scale'].abs().max() == df[df['target']==i]['impression_scale'].abs()][['target','color']])\n",
    "d = d[~d['target'].duplicated()]\n",
    "\n",
    "# 3回の場合、色の数が３回ならば、絶対値の最大値を撮ればよい。2色以下ならば最頻値を取る。\n",
    "for i in tqdm(count_list_3):\n",
    "    if df[df['target']==i]['color'].nunique() == 3:\n",
    "        d = d.append(df[df['target']==i][df[df['target']==i]['impression_scale'].abs().max() == df[df['target']==i]['impression_scale'].abs()][['target','color']])\n",
    "    else:\n",
    "        mode = df[df['target']==i]['color'].mode().values.tolist()[0]\n",
    "        d = d.append(df[(df['target']==i)&(df['color']== mode)][['target','color']].head(1))    \n",
    "d = d[~d['target'].duplicated()]\n",
    "\n",
    "# 4回の場合、色の数が4回ならば、絶対値の最大値を撮ればよい。3色ならば最頻値を取る。2色以下ならば最頻値を取る。\n",
    "for i in tqdm(count_list_4):\n",
    "    if df[df['target']==i]['color'].nunique() == 4:\n",
    "        d = d.append(df[df['target']==i][df[df['target']==i]['impression_scale'].abs().max() == df[df['target']==i]['impression_scale'].abs()][['target','color']])\n",
    "    elif df[df['target']==i]['color'].nunique() == 3:\n",
    "        mode = df[df['target']==i]['color'].mode().values.tolist()[0]\n",
    "        d = d.append(df[(df['target']==i)&(df['color']== mode)][['target','color']].head(1))    \n",
    "    elif df[df['target']==i]['color'].nunique() <= 2:\n",
    "        # 絶対値の合計が多い方を選ぶ。\n",
    "        color_max = df[df['target']==i].groupby('color')['impression_scale_abs'].max().sort_values(ascending=False).reset_index()['color'][0]\n",
    "        d = d.append(df[(df['target']==i)&(df['color']== color_max)][['target','color']].head(1))\n",
    "d = d[~d['target'].duplicated()]\n",
    "\n",
    "# 5回以上の場合、最頻値をとる。\n",
    "for i in tqdm(count_list_5):\n",
    "    mode = df[df['target']==i]['color'].mode().values.tolist()[0]\n",
    "    d = d.append(df[(df['target']==i)&(df['color']== mode)][['target','color']].head(1))\n",
    "d = d[~d['target'].duplicated()]"
   ]
  },
  {
   "cell_type": "code",
   "execution_count": 32,
   "metadata": {},
   "outputs": [
    {
     "data": {
      "text/plain": [
       "True"
      ]
     },
     "execution_count": 32,
     "metadata": {},
     "output_type": "execute_result"
    }
   ],
   "source": [
    "len(d) == len(count_list_1)+len(count_list_2)+len(count_list_3)+len(count_list_4)+len(count_list_5)"
   ]
  },
  {
   "cell_type": "code",
   "execution_count": 39,
   "metadata": {},
   "outputs": [],
   "source": [
    "d = d.reset_index(drop=True)"
   ]
  },
  {
   "cell_type": "code",
   "execution_count": 40,
   "metadata": {},
   "outputs": [
    {
     "data": {
      "text/html": [
       "<div>\n",
       "<style scoped>\n",
       "    .dataframe tbody tr th:only-of-type {\n",
       "        vertical-align: middle;\n",
       "    }\n",
       "\n",
       "    .dataframe tbody tr th {\n",
       "        vertical-align: top;\n",
       "    }\n",
       "\n",
       "    .dataframe thead th {\n",
       "        text-align: right;\n",
       "    }\n",
       "</style>\n",
       "<table border=\"1\" class=\"dataframe\">\n",
       "  <thead>\n",
       "    <tr style=\"text-align: right;\">\n",
       "      <th></th>\n",
       "      <th>target</th>\n",
       "      <th>color</th>\n",
       "    </tr>\n",
       "  </thead>\n",
       "  <tbody>\n",
       "    <tr>\n",
       "      <td>0</td>\n",
       "      <td>/templates/Image/targets/J・ムラカミ_00004.png</td>\n",
       "      <td>0</td>\n",
       "    </tr>\n",
       "    <tr>\n",
       "      <td>1</td>\n",
       "      <td>/templates/Image/targets/NUSTVアナウンサー_00002.png</td>\n",
       "      <td>3</td>\n",
       "    </tr>\n",
       "    <tr>\n",
       "      <td>2</td>\n",
       "      <td>/templates/Image/targets/NUSTVアナウンサー_00004.png</td>\n",
       "      <td>3</td>\n",
       "    </tr>\n",
       "    <tr>\n",
       "      <td>3</td>\n",
       "      <td>/templates/Image/targets/i000qe-fn.png</td>\n",
       "      <td>1</td>\n",
       "    </tr>\n",
       "    <tr>\n",
       "      <td>4</td>\n",
       "      <td>/templates/Image/targets/i000re-fn.png</td>\n",
       "      <td>3</td>\n",
       "    </tr>\n",
       "    <tr>\n",
       "      <td>...</td>\n",
       "      <td>...</td>\n",
       "      <td>...</td>\n",
       "    </tr>\n",
       "    <tr>\n",
       "      <td>7314</td>\n",
       "      <td>/templates/Image/targets/東京の夫婦_夫_00003.png</td>\n",
       "      <td>0</td>\n",
       "    </tr>\n",
       "    <tr>\n",
       "      <td>7315</td>\n",
       "      <td>/templates/Image/targets/焼野矢八_00052.png</td>\n",
       "      <td>1</td>\n",
       "    </tr>\n",
       "    <tr>\n",
       "      <td>7316</td>\n",
       "      <td>/templates/Image/targets/羽澄マリ_00012.png</td>\n",
       "      <td>1</td>\n",
       "    </tr>\n",
       "    <tr>\n",
       "      <td>7317</td>\n",
       "      <td>/templates/Image/targets/越前_00005.png</td>\n",
       "      <td>2</td>\n",
       "    </tr>\n",
       "    <tr>\n",
       "      <td>7318</td>\n",
       "      <td>/templates/Image/targets/野末風太郎_00025.png</td>\n",
       "      <td>1</td>\n",
       "    </tr>\n",
       "  </tbody>\n",
       "</table>\n",
       "<p>7319 rows × 2 columns</p>\n",
       "</div>"
      ],
      "text/plain": [
       "                                              target  color\n",
       "0          /templates/Image/targets/J・ムラカミ_00004.png      0\n",
       "1     /templates/Image/targets/NUSTVアナウンサー_00002.png      3\n",
       "2     /templates/Image/targets/NUSTVアナウンサー_00004.png      3\n",
       "3             /templates/Image/targets/i000qe-fn.png      1\n",
       "4             /templates/Image/targets/i000re-fn.png      3\n",
       "...                                              ...    ...\n",
       "7314      /templates/Image/targets/東京の夫婦_夫_00003.png      0\n",
       "7315         /templates/Image/targets/焼野矢八_00052.png      1\n",
       "7316         /templates/Image/targets/羽澄マリ_00012.png      1\n",
       "7317           /templates/Image/targets/越前_00005.png      2\n",
       "7318        /templates/Image/targets/野末風太郎_00025.png      1\n",
       "\n",
       "[7319 rows x 2 columns]"
      ]
     },
     "execution_count": 40,
     "metadata": {},
     "output_type": "execute_result"
    }
   ],
   "source": [
    "d"
   ]
  },
  {
   "cell_type": "code",
   "execution_count": 41,
   "metadata": {},
   "outputs": [],
   "source": [
    "d.to_csv('target_color.csv')"
   ]
  },
  {
   "cell_type": "code",
   "execution_count": null,
   "metadata": {},
   "outputs": [],
   "source": []
  }
 ],
 "metadata": {
  "kernelspec": {
   "display_name": "Python 3",
   "language": "python",
   "name": "python3"
  },
  "language_info": {
   "codemirror_mode": {
    "name": "ipython",
    "version": 3
   },
   "file_extension": ".py",
   "mimetype": "text/x-python",
   "name": "python",
   "nbconvert_exporter": "python",
   "pygments_lexer": "ipython3",
   "version": "3.7.4"
  },
  "toc-autonumbering": false,
  "toc-showcode": false,
  "toc-showmarkdowntxt": true
 },
 "nbformat": 4,
 "nbformat_minor": 5
}
