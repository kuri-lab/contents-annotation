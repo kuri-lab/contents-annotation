{
 "cells": [
  {
   "cell_type": "code",
   "execution_count": 2,
   "id": "0d4909e5-e617-45df-941c-16fef51abee6",
   "metadata": {},
   "outputs": [
    {
     "name": "stdout",
     "output_type": "stream",
     "text": [
      "\u001b[01;34mImage/Dataset/\u001b[00m\n",
      "├── \u001b[01;34mDomainNet\u001b[00m\n",
      "│   ├── \u001b[01;34msketch\u001b[00m\n",
      "│   ├── \u001b[01;31msketch.zip\u001b[00m\n",
      "│   ├── sketch_cate.ipynb\n",
      "│   ├── sketch_ramdom_sample.ipynb\n",
      "│   ├── \u001b[01;34msplits_mini\u001b[00m\n",
      "│   ├── \u001b[01;31msplits_mini.zip\u001b[00m\n",
      "│   └── zip.ipynb\n",
      "├── \u001b[01;34mMUCT\u001b[00m\n",
      "│   ├── \u001b[01;34mmuct_github\u001b[00m\n",
      "│   ├── muct_random_sample.ipynb\n",
      "│   ├── \u001b[01;34mmuct_rembg_resized_256\u001b[00m\n",
      "│   ├── \u001b[01;34mmuct_rembg_resized_ra\u001b[00m\n",
      "│   ├── muct_背景白_hatakeyama.ipynb\n",
      "│   └── \u001b[01;34moriginal_muct_rembg\u001b[00m\n",
      "├── \u001b[01;34mTEZUKA\u001b[00m\n",
      "│   ├── \u001b[01;34mdataset_tezuka_folder\u001b[00m\n",
      "│   ├── \u001b[01;31mdataset_tezuka_folder_0919_33titles.zip\u001b[00m\n",
      "│   ├── \u001b[01;34mtezuka_0609\u001b[00m\n",
      "│   ├── tezuka_random_sample.ipynb\n",
      "│   ├── \u001b[01;34mtezuka_sample635_0920\u001b[00m\n",
      "│   └── 日本発狂.ipynb\n",
      "└── zip.ipynb\n",
      "\n",
      "12 directories, 11 files\n"
     ]
    }
   ],
   "source": [
    "!tree -L 2 Image/Dataset/"
   ]
  },
  {
   "cell_type": "code",
   "execution_count": 3,
   "id": "38ac666d-cc55-4c2c-a43e-95d95f656fff",
   "metadata": {},
   "outputs": [],
   "source": [
    "import shutil"
   ]
  },
  {
   "cell_type": "code",
   "execution_count": 8,
   "id": "50a4ff02-e7ae-46b7-89d2-aca1d07d162d",
   "metadata": {},
   "outputs": [],
   "source": [
    "!cp -r Image/Dataset/TEZUKA/日本発狂.ipynb code_Image/"
   ]
  },
  {
   "cell_type": "code",
   "execution_count": null,
   "id": "b254d802-8a53-42e1-8137-029ae23caaa7",
   "metadata": {},
   "outputs": [],
   "source": []
  }
 ],
 "metadata": {
  "kernelspec": {
   "display_name": "Python 3 (ipykernel)",
   "language": "python",
   "name": "python3"
  },
  "language_info": {
   "codemirror_mode": {
    "name": "ipython",
    "version": 3
   },
   "file_extension": ".py",
   "mimetype": "text/x-python",
   "name": "python",
   "nbconvert_exporter": "python",
   "pygments_lexer": "ipython3",
   "version": "3.8.3"
  }
 },
 "nbformat": 4,
 "nbformat_minor": 5
}
