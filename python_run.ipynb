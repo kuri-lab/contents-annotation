{
 "cells": [
  {
   "cell_type": "code",
   "execution_count": 1,
   "id": "4a6acc55-c929-47b3-934c-df2b7cd1e236",
   "metadata": {},
   "outputs": [],
   "source": [
    "from models.database import init_db"
   ]
  },
  {
   "cell_type": "code",
   "execution_count": 2,
   "id": "65767098-9cf0-4122-a924-50041b4ade1c",
   "metadata": {},
   "outputs": [],
   "source": [
    "init_db()"
   ]
  },
  {
   "cell_type": "code",
   "execution_count": null,
   "id": "7e8a136c-94f1-4e33-8c3c-21fe5d48177f",
   "metadata": {},
   "outputs": [
    {
     "name": "stdout",
     "output_type": "stream",
     "text": [
      " * Serving Flask app 'app.my_app' (lazy loading)\n",
      " * Environment: production\n",
      "\u001b[31m   WARNING: This is a development server. Do not use it in a production deployment.\u001b[0m\n",
      "\u001b[2m   Use a production WSGI server instead.\u001b[0m\n",
      " * Debug mode: on\n",
      " * Running on all addresses.\n",
      "   WARNING: This is a development server. Do not use it in a production deployment.\n",
      " * Running on http://192.168.101.7:8000/ (Press CTRL+C to quit)\n",
      " * Restarting with stat\n",
      " * Debugger is active!\n",
      " * Debugger PIN: 104-253-136\n",
      "192.168.100.10 - - [02/Sep/2021 09:17:05] \"GET /task/hypara_test HTTP/1.1\" 200 -\n",
      "192.168.100.10 - - [02/Sep/2021 09:17:05] \"\u001b[36mGET /static/css/bootstrap.min.css HTTP/1.1\u001b[0m\" 304 -\n",
      "192.168.100.10 - - [02/Sep/2021 09:17:05] \"\u001b[36mGET /static/js/bootstrap.min.js HTTP/1.1\u001b[0m\" 304 -\n",
      "192.168.100.10 - - [02/Sep/2021 09:17:06] \"\u001b[36mGET /templates/colors/red.png HTTP/1.1\u001b[0m\" 304 -\n",
      "192.168.100.10 - - [02/Sep/2021 09:17:06] \"GET /templates/Image/sample_target/07841.jpg HTTP/1.1\" 200 -\n",
      "192.168.100.10 - - [02/Sep/2021 09:17:06] \"\u001b[36mGET /templates/colors/blue.png HTTP/1.1\u001b[0m\" 304 -\n",
      "192.168.100.10 - - [02/Sep/2021 09:17:12] \"\u001b[32mPOST /add HTTP/1.1\u001b[0m\" 302 -\n",
      "192.168.100.10 - - [02/Sep/2021 09:17:12] \"GET /task/hypara_test HTTP/1.1\" 200 -\n",
      "192.168.100.10 - - [02/Sep/2021 09:17:12] \"\u001b[36mGET /static/css/bootstrap.min.css HTTP/1.1\u001b[0m\" 304 -\n",
      "192.168.100.10 - - [02/Sep/2021 09:17:12] \"\u001b[36mGET /static/js/bootstrap.min.js HTTP/1.1\u001b[0m\" 304 -\n",
      "192.168.100.10 - - [02/Sep/2021 09:17:12] \"\u001b[36mGET /templates/colors/yellowred.png HTTP/1.1\u001b[0m\" 304 -\n",
      "192.168.100.10 - - [02/Sep/2021 09:17:12] \"GET /templates/Image/sample_target/sketch_279_000024.jpg HTTP/1.1\" 200 -\n",
      "192.168.100.10 - - [02/Sep/2021 09:17:12] \"\u001b[36mGET /templates/colors/yellow.png HTTP/1.1\u001b[0m\" 304 -\n"
     ]
    }
   ],
   "source": [
    "!python run.py"
   ]
  },
  {
   "cell_type": "code",
   "execution_count": null,
   "id": "b8f35ade-d11f-4895-a78f-3e80ef5b1dc4",
   "metadata": {},
   "outputs": [],
   "source": []
  }
 ],
 "metadata": {
  "kernelspec": {
   "display_name": "Python 3 (ipykernel)",
   "language": "python",
   "name": "python3"
  },
  "language_info": {
   "codemirror_mode": {
    "name": "ipython",
    "version": 3
   },
   "file_extension": ".py",
   "mimetype": "text/x-python",
   "name": "python",
   "nbconvert_exporter": "python",
   "pygments_lexer": "ipython3",
   "version": "3.8.3"
  }
 },
 "nbformat": 4,
 "nbformat_minor": 5
}
