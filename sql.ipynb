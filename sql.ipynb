{
 "cells": [
  {
   "cell_type": "code",
   "execution_count": 1,
   "id": "5a16c261-8508-42c5-88a9-785eb42d4aae",
   "metadata": {},
   "outputs": [],
   "source": [
    "import pandas as pd\n",
    "import sqlite3"
   ]
  },
  {
   "cell_type": "code",
   "execution_count": 2,
   "id": "76fe92fe-fef7-4f09-ad35-3a3e61be010f",
   "metadata": {},
   "outputs": [],
   "source": [
    "con = sqlite3.connect(\"models/impression.db\")\n",
    "cursor = con.cursor()"
   ]
  },
  {
   "cell_type": "code",
   "execution_count": 3,
   "id": "26e914ba-58e5-4c78-8bc1-5159649f266d",
   "metadata": {},
   "outputs": [
    {
     "data": {
      "text/plain": [
       "<sqlite3.Cursor at 0x7fbab3c3b490>"
      ]
     },
     "execution_count": 3,
     "metadata": {},
     "output_type": "execute_result"
    }
   ],
   "source": [
    "cursor.execute(\"SELECT * FROM impressioncontents\")"
   ]
  },
  {
   "cell_type": "code",
   "execution_count": 4,
   "id": "76387cf8-e6d8-4ddd-b23c-6707b17f5b76",
   "metadata": {},
   "outputs": [],
   "source": [
    "results = cursor.fetchall()"
   ]
  },
  {
   "cell_type": "code",
   "execution_count": 5,
   "id": "d6722371-33ac-459b-893c-aeb3e5b872d1",
   "metadata": {},
   "outputs": [],
   "source": [
    "df = pd.read_sql_query(\"SELECT * FROM impressioncontents\", con)"
   ]
  },
  {
   "cell_type": "code",
   "execution_count": 6,
   "id": "c699ebea-b9f7-4274-baf1-33e5e37143cf",
   "metadata": {},
   "outputs": [
    {
     "data": {
      "text/html": [
       "<div>\n",
       "<style scoped>\n",
       "    .dataframe tbody tr th:only-of-type {\n",
       "        vertical-align: middle;\n",
       "    }\n",
       "\n",
       "    .dataframe tbody tr th {\n",
       "        vertical-align: top;\n",
       "    }\n",
       "\n",
       "    .dataframe thead th {\n",
       "        text-align: right;\n",
       "    }\n",
       "</style>\n",
       "<table border=\"1\" class=\"dataframe\">\n",
       "  <thead>\n",
       "    <tr style=\"text-align: right;\">\n",
       "      <th></th>\n",
       "      <th>id</th>\n",
       "      <th>name</th>\n",
       "      <th>reference1</th>\n",
       "      <th>reference2</th>\n",
       "      <th>target</th>\n",
       "      <th>ref1</th>\n",
       "      <th>ref2</th>\n",
       "      <th>date</th>\n",
       "    </tr>\n",
       "  </thead>\n",
       "  <tbody>\n",
       "    <tr>\n",
       "      <th>0</th>\n",
       "      <td>1</td>\n",
       "      <td>unknown_user</td>\n",
       "      <td>/templates/purple.png</td>\n",
       "      <td>/templates/yellow.png</td>\n",
       "      <td>/templates/yakan.png</td>\n",
       "      <td>18.0</td>\n",
       "      <td>-18.0</td>\n",
       "      <td>2021-08-31 13:51:28.890996</td>\n",
       "    </tr>\n",
       "    <tr>\n",
       "      <th>1</th>\n",
       "      <td>2</td>\n",
       "      <td>saito</td>\n",
       "      <td>/templates/purple.png</td>\n",
       "      <td>/templates/white.png</td>\n",
       "      <td>/templates/cat.png</td>\n",
       "      <td>17.0</td>\n",
       "      <td>-17.0</td>\n",
       "      <td>2021-08-31 13:51:52.699033</td>\n",
       "    </tr>\n",
       "    <tr>\n",
       "      <th>2</th>\n",
       "      <td>3</td>\n",
       "      <td>saito</td>\n",
       "      <td>/templates/bluepurple.png</td>\n",
       "      <td>/templates/yellowred.png</td>\n",
       "      <td>/templates/yakan.png</td>\n",
       "      <td>24.0</td>\n",
       "      <td>-24.0</td>\n",
       "      <td>2021-08-31 13:51:59.346089</td>\n",
       "    </tr>\n",
       "    <tr>\n",
       "      <th>3</th>\n",
       "      <td>4</td>\n",
       "      <td>saito</td>\n",
       "      <td>/templates/bluepurple.png</td>\n",
       "      <td>/templates/yellowred.png</td>\n",
       "      <td>/templates/dog.png</td>\n",
       "      <td>37.0</td>\n",
       "      <td>-37.0</td>\n",
       "      <td>2021-08-31 13:52:05.981611</td>\n",
       "    </tr>\n",
       "    <tr>\n",
       "      <th>4</th>\n",
       "      <td>5</td>\n",
       "      <td>saito</td>\n",
       "      <td>/templates/yellow.png</td>\n",
       "      <td>/templates/green.png</td>\n",
       "      <td>/templates/dog.png</td>\n",
       "      <td>15.0</td>\n",
       "      <td>-15.0</td>\n",
       "      <td>2021-08-31 13:52:11.909135</td>\n",
       "    </tr>\n",
       "  </tbody>\n",
       "</table>\n",
       "</div>"
      ],
      "text/plain": [
       "   id          name                 reference1                reference2  \\\n",
       "0   1  unknown_user      /templates/purple.png     /templates/yellow.png   \n",
       "1   2         saito      /templates/purple.png      /templates/white.png   \n",
       "2   3         saito  /templates/bluepurple.png  /templates/yellowred.png   \n",
       "3   4         saito  /templates/bluepurple.png  /templates/yellowred.png   \n",
       "4   5         saito      /templates/yellow.png      /templates/green.png   \n",
       "\n",
       "                 target  ref1  ref2                        date  \n",
       "0  /templates/yakan.png  18.0 -18.0  2021-08-31 13:51:28.890996  \n",
       "1    /templates/cat.png  17.0 -17.0  2021-08-31 13:51:52.699033  \n",
       "2  /templates/yakan.png  24.0 -24.0  2021-08-31 13:51:59.346089  \n",
       "3    /templates/dog.png  37.0 -37.0  2021-08-31 13:52:05.981611  \n",
       "4    /templates/dog.png  15.0 -15.0  2021-08-31 13:52:11.909135  "
      ]
     },
     "execution_count": 6,
     "metadata": {},
     "output_type": "execute_result"
    }
   ],
   "source": [
    "df"
   ]
  },
  {
   "cell_type": "code",
   "execution_count": null,
   "id": "ad45172b-6396-42d9-83dc-4169ee89141f",
   "metadata": {},
   "outputs": [],
   "source": []
  },
  {
   "cell_type": "code",
   "execution_count": null,
   "id": "dd460342-4ab7-4282-b289-41f905af8f26",
   "metadata": {},
   "outputs": [],
   "source": []
  }
 ],
 "metadata": {
  "kernelspec": {
   "display_name": "Python 3 (ipykernel)",
   "language": "python",
   "name": "python3"
  },
  "language_info": {
   "codemirror_mode": {
    "name": "ipython",
    "version": 3
   },
   "file_extension": ".py",
   "mimetype": "text/x-python",
   "name": "python",
   "nbconvert_exporter": "python",
   "pygments_lexer": "ipython3",
   "version": "3.8.3"
  }
 },
 "nbformat": 4,
 "nbformat_minor": 5
}
