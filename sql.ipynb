{
 "cells": [
  {
   "cell_type": "code",
   "execution_count": 1,
   "id": "6809cdf4-804d-4277-9244-e436757bcd88",
   "metadata": {},
   "outputs": [],
   "source": [
    "from models.database import init_db"
   ]
  },
  {
   "cell_type": "code",
   "execution_count": 2,
   "id": "5d6a8849-ea03-49b1-bf8d-d79ef9496cc7",
   "metadata": {},
   "outputs": [],
   "source": [
    "init_db()"
   ]
  },
  {
   "cell_type": "code",
   "execution_count": null,
   "id": "e030d82a-ce62-421c-9fdd-0e74746bb3ba",
   "metadata": {},
   "outputs": [],
   "source": []
  },
  {
   "cell_type": "code",
   "execution_count": 9,
   "id": "5a16c261-8508-42c5-88a9-785eb42d4aae",
   "metadata": {},
   "outputs": [],
   "source": [
    "import pandas as pd\n",
    "import sqlite3"
   ]
  },
  {
   "cell_type": "code",
   "execution_count": 10,
   "id": "76fe92fe-fef7-4f09-ad35-3a3e61be010f",
   "metadata": {},
   "outputs": [],
   "source": [
    "con = sqlite3.connect(\"models/impression.db\")\n",
    "cursor = con.cursor()"
   ]
  },
  {
   "cell_type": "code",
   "execution_count": 11,
   "id": "26e914ba-58e5-4c78-8bc1-5159649f266d",
   "metadata": {},
   "outputs": [
    {
     "data": {
      "text/plain": [
       "<sqlite3.Cursor at 0x7f1007dca110>"
      ]
     },
     "execution_count": 11,
     "metadata": {},
     "output_type": "execute_result"
    }
   ],
   "source": [
    "cursor.execute(\"SELECT * FROM impressioncontents\")"
   ]
  },
  {
   "cell_type": "code",
   "execution_count": 12,
   "id": "76387cf8-e6d8-4ddd-b23c-6707b17f5b76",
   "metadata": {},
   "outputs": [],
   "source": [
    "results = cursor.fetchall()"
   ]
  },
  {
   "cell_type": "code",
   "execution_count": 13,
   "id": "d6722371-33ac-459b-893c-aeb3e5b872d1",
   "metadata": {},
   "outputs": [],
   "source": [
    "df = pd.read_sql_query(\"SELECT * FROM impressioncontents\", con)"
   ]
  },
  {
   "cell_type": "code",
   "execution_count": 14,
   "id": "c699ebea-b9f7-4274-baf1-33e5e37143cf",
   "metadata": {},
   "outputs": [
    {
     "data": {
      "text/html": [
       "<div>\n",
       "<style scoped>\n",
       "    .dataframe tbody tr th:only-of-type {\n",
       "        vertical-align: middle;\n",
       "    }\n",
       "\n",
       "    .dataframe tbody tr th {\n",
       "        vertical-align: top;\n",
       "    }\n",
       "\n",
       "    .dataframe thead th {\n",
       "        text-align: right;\n",
       "    }\n",
       "</style>\n",
       "<table border=\"1\" class=\"dataframe\">\n",
       "  <thead>\n",
       "    <tr style=\"text-align: right;\">\n",
       "      <th></th>\n",
       "      <th>id</th>\n",
       "      <th>name</th>\n",
       "      <th>reference1</th>\n",
       "      <th>reference2</th>\n",
       "      <th>target</th>\n",
       "      <th>impression</th>\n",
       "      <th>date</th>\n",
       "    </tr>\n",
       "  </thead>\n",
       "  <tbody>\n",
       "    <tr>\n",
       "      <th>0</th>\n",
       "      <td>1</td>\n",
       "      <td>saito</td>\n",
       "      <td>/templates/colors/green.png</td>\n",
       "      <td>/templates/colors/yellowred.png</td>\n",
       "      <td>/templates/Image/sample_target/09325.jpg</td>\n",
       "      <td>25.0</td>\n",
       "      <td>2021-09-02 12:22:39.269151</td>\n",
       "    </tr>\n",
       "    <tr>\n",
       "      <th>1</th>\n",
       "      <td>2</td>\n",
       "      <td>saito</td>\n",
       "      <td>/templates/colors/yellowred.png</td>\n",
       "      <td>/templates/colors/purple.png</td>\n",
       "      <td>/templates/Image/sample_target/sketch_167_0001...</td>\n",
       "      <td>22.0</td>\n",
       "      <td>2021-09-02 12:22:43.961787</td>\n",
       "    </tr>\n",
       "    <tr>\n",
       "      <th>2</th>\n",
       "      <td>3</td>\n",
       "      <td>saito</td>\n",
       "      <td>/templates/colors/purple.png</td>\n",
       "      <td>/templates/colors/yellow.png</td>\n",
       "      <td>/templates/Image/sample_target/01898.jpg</td>\n",
       "      <td>-22.0</td>\n",
       "      <td>2021-09-02 12:22:48.098638</td>\n",
       "    </tr>\n",
       "    <tr>\n",
       "      <th>3</th>\n",
       "      <td>4</td>\n",
       "      <td>saito</td>\n",
       "      <td>/templates/colors/blue.png</td>\n",
       "      <td>/templates/colors/white.png</td>\n",
       "      <td>/templates/Image/sample_target/sketch_252_0003...</td>\n",
       "      <td>14.0</td>\n",
       "      <td>2021-09-02 12:22:52.058311</td>\n",
       "    </tr>\n",
       "    <tr>\n",
       "      <th>4</th>\n",
       "      <td>5</td>\n",
       "      <td>saito</td>\n",
       "      <td>/templates/colors/yellowred.png</td>\n",
       "      <td>/templates/colors/bluepurple.png</td>\n",
       "      <td>/templates/Image/sample_target/sketch_311_0000...</td>\n",
       "      <td>-19.0</td>\n",
       "      <td>2021-09-02 12:22:55.844220</td>\n",
       "    </tr>\n",
       "  </tbody>\n",
       "</table>\n",
       "</div>"
      ],
      "text/plain": [
       "   id   name                       reference1  \\\n",
       "0   1  saito      /templates/colors/green.png   \n",
       "1   2  saito  /templates/colors/yellowred.png   \n",
       "2   3  saito     /templates/colors/purple.png   \n",
       "3   4  saito       /templates/colors/blue.png   \n",
       "4   5  saito  /templates/colors/yellowred.png   \n",
       "\n",
       "                         reference2  \\\n",
       "0   /templates/colors/yellowred.png   \n",
       "1      /templates/colors/purple.png   \n",
       "2      /templates/colors/yellow.png   \n",
       "3       /templates/colors/white.png   \n",
       "4  /templates/colors/bluepurple.png   \n",
       "\n",
       "                                              target  impression  \\\n",
       "0           /templates/Image/sample_target/09325.jpg        25.0   \n",
       "1  /templates/Image/sample_target/sketch_167_0001...        22.0   \n",
       "2           /templates/Image/sample_target/01898.jpg       -22.0   \n",
       "3  /templates/Image/sample_target/sketch_252_0003...        14.0   \n",
       "4  /templates/Image/sample_target/sketch_311_0000...       -19.0   \n",
       "\n",
       "                         date  \n",
       "0  2021-09-02 12:22:39.269151  \n",
       "1  2021-09-02 12:22:43.961787  \n",
       "2  2021-09-02 12:22:48.098638  \n",
       "3  2021-09-02 12:22:52.058311  \n",
       "4  2021-09-02 12:22:55.844220  "
      ]
     },
     "execution_count": 14,
     "metadata": {},
     "output_type": "execute_result"
    }
   ],
   "source": [
    "df"
   ]
  },
  {
   "cell_type": "code",
   "execution_count": null,
   "id": "ad45172b-6396-42d9-83dc-4169ee89141f",
   "metadata": {},
   "outputs": [],
   "source": []
  },
  {
   "cell_type": "code",
   "execution_count": null,
   "id": "485ace45-4cdd-4e28-a86b-6747258ed214",
   "metadata": {},
   "outputs": [],
   "source": []
  }
 ],
 "metadata": {
  "kernelspec": {
   "display_name": "Python 3 (ipykernel)",
   "language": "python",
   "name": "python3"
  },
  "language_info": {
   "codemirror_mode": {
    "name": "ipython",
    "version": 3
   },
   "file_extension": ".py",
   "mimetype": "text/x-python",
   "name": "python",
   "nbconvert_exporter": "python",
   "pygments_lexer": "ipython3",
   "version": "3.8.3"
  }
 },
 "nbformat": 4,
 "nbformat_minor": 5
}
